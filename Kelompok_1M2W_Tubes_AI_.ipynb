{
  "cells": [
    {
      "cell_type": "markdown",
      "metadata": {
        "id": "awKcDRBQwc9U"
      },
      "source": [
        "**Tugas Besar Pemrograman Mata Kuliah Kecerdasan Artifisial**\n",
        "\n",
        "\n",
        "---\n",
        "\n",
        "\n",
        "Kelompok: 1M2W\n",
        "\n",
        "Anggota:\n",
        "1. Riodino Raihan - 1301220413\n",
        "2. Nurul Izzah Abdussalam Zahra - 1301223385\n",
        "3. Awanda Puspa Larasati - 1301223101\n",
        "\n",
        "\n",
        "---\n",
        "\n",
        "\n",
        "Pada tugas besar mata kuliah Kecerdasan Artifisial ini, kami memilih dataset \"**Wholesale customers**\" sebagai bahan analisis. Dataset ini merujuk pada data pembelian klien dari sebuah distributor grosir. Dataset ini mencakup pengeluaran tahunan dalam monetary units (m.u.) untuk berbagai kategori produk.\n",
        "\n",
        "Adapun variabel-variabel feature pada dataset ini yaitu:\n",
        "1. Region (Categorical)\n",
        "2. Fresh (Integer)\n",
        "3. Milk (Integer)\n",
        "4. Grocery (Integer)\n",
        "5. Frozen (Integer)\n",
        "6. Detergents_Paper (Integer)\n",
        "7. Delicassen (Integer)\n",
        "\n",
        "Variabel target dari dataset ini yaitu variabel **Channel** (Categorical) dan kami akan melakukan **klasifikasi** menggunakan variabel feature yang ada dengan menggunakan metode KNN dan Naive Bayes. Setiap variabel categorical sudah dilakukan Label Encoding."
      ]
    },
    {
      "cell_type": "markdown",
      "metadata": {
        "id": "gO2nL45pxx2P"
      },
      "source": [
        "# **Data Preparation**"
      ]
    },
    {
      "cell_type": "markdown",
      "metadata": {
        "id": "A6y_KrptyBPT"
      },
      "source": [
        "## Import library untuk data preprocessing"
      ]
    },
    {
      "cell_type": "code",
      "execution_count": null,
      "metadata": {
        "id": "6fxtFCtVxO3J"
      },
      "outputs": [],
      "source": [
        "import numpy as np\n",
        "import matplotlib.pyplot as plt\n",
        "import pandas as pd\n",
        "import seaborn as sns\n",
        "from sklearn.ensemble import IsolationForest\n",
        "from sklearn.model_selection import GridSearchCV\n",
        "from sklearn.preprocessing import MinMaxScaler\n",
        "from sklearn.preprocessing import StandardScaler\n",
        "from matplotlib.colors import ListedColormap"
      ]
    },
    {
      "cell_type": "markdown",
      "metadata": {
        "id": "_R9igH9Yy0G8"
      },
      "source": [
        "## Import dataset\n",
        " (https://www.kaggle.com/datasets/saurabhbadole/wholesale-customers-data/data )"
      ]
    },
    {
      "cell_type": "code",
      "execution_count": null,
      "metadata": {
        "id": "SPHyePDrUiuP"
      },
      "outputs": [],
      "source": [
        "url = 'https://raw.githubusercontent.com/hyejrkv/datasetWholesaleCustomers/refs/heads/main/Wholesale%20customers%20data.csv'\n",
        "dataset = pd.read_csv(url)"
      ]
    },
    {
      "cell_type": "markdown",
      "metadata": {
        "id": "HCMfXXVRY7n1"
      },
      "source": [
        "# **Data Exploration**"
      ]
    },
    {
      "cell_type": "markdown",
      "metadata": {
        "id": "ZIrau-IY2kAw"
      },
      "source": [
        "## Menampilkan banyak dataset, head dataset, dan jenis dari tiap feature\n",
        "\n"
      ]
    },
    {
      "cell_type": "code",
      "execution_count": null,
      "metadata": {
        "colab": {
          "base_uri": "https://localhost:8080/"
        },
        "id": "IxfYM0KU2T-q",
        "outputId": "53bdccd9-aaa9-4027-f37c-03bd1f106057"
      },
      "outputs": [
        {
          "output_type": "stream",
          "name": "stdout",
          "text": [
            "Banyak dataset:  440\n",
            "\n",
            "   Channel  Region  Fresh  Milk  Grocery  Frozen  Detergents_Paper  Delicassen\n",
            "0        2       3  12669  9656     7561     214              2674        1338\n",
            "1        2       3   7057  9810     9568    1762              3293        1776\n",
            "2        2       3   6353  8808     7684    2405              3516        7844\n",
            "3        1       3  13265  1196     4221    6404               507        1788\n",
            "4        2       3  22615  5410     7198    3915              1777        5185\n",
            "\n",
            "Channel               2\n",
            "Region                3\n",
            "Fresh               433\n",
            "Milk                421\n",
            "Grocery             430\n",
            "Frozen              426\n",
            "Detergents_Paper    417\n",
            "Delicassen          403\n",
            "dtype: int64\n"
          ]
        }
      ],
      "source": [
        "print(\"Banyak dataset: \", len(dataset))\n",
        "print()\n",
        "print(dataset.head())\n",
        "print()\n",
        "print(dataset.nunique())"
      ]
    },
    {
      "cell_type": "markdown",
      "metadata": {
        "id": "9OS8Mnce3VdK"
      },
      "source": [
        "## Memeriksa nilai yang hilang\n",
        "\n",
        "---\n",
        "Dataset ini tidak memiliki missing values.\n"
      ]
    },
    {
      "cell_type": "code",
      "execution_count": null,
      "metadata": {
        "colab": {
          "base_uri": "https://localhost:8080/"
        },
        "id": "28sq_uoD3aDj",
        "outputId": "6e19c398-72f4-4cd4-deea-7abf1a09d0fd"
      },
      "outputs": [
        {
          "output_type": "stream",
          "name": "stdout",
          "text": [
            "\n",
            "Missing Values:\n",
            "Channel             0\n",
            "Region              0\n",
            "Fresh               0\n",
            "Milk                0\n",
            "Grocery             0\n",
            "Frozen              0\n",
            "Detergents_Paper    0\n",
            "Delicassen          0\n",
            "dtype: int64\n"
          ]
        }
      ],
      "source": [
        "print(\"\\nMissing Values:\")\n",
        "print(dataset.isnull().sum())"
      ]
    },
    {
      "cell_type": "markdown",
      "metadata": {
        "id": "PXDIwXloORK8"
      },
      "source": [
        "# **Data Preprocessing & Splitting**"
      ]
    },
    {
      "cell_type": "markdown",
      "metadata": {
        "id": "YGLiwery78PI"
      },
      "source": [
        "## Korelasi antar-feature"
      ]
    },
    {
      "cell_type": "code",
      "execution_count": null,
      "metadata": {
        "colab": {
          "base_uri": "https://localhost:8080/",
          "height": 1000
        },
        "id": "nHu-FCit8J2y",
        "outputId": "d10c9e9d-d6f2-41c4-f3f2-4e205849ba1e"
      },
      "outputs": [
        {
          "output_type": "display_data",
          "data": {
            "text/plain": [
              "<Figure size 1200x800 with 2 Axes>"
            ],
            "image/png": "[encoded data removed]"
          },
          "metadata": {}
        },
        {
          "output_type": "stream",
          "name": "stdout",
          "text": [
            "\n",
            "Correlation of features with target variable (Region):\n",
            "Region              1.000000\n",
            "Channel             0.062028\n",
            "Fresh               0.055287\n",
            "Delicassen          0.045212\n",
            "Milk                0.032288\n",
            "Grocery             0.007696\n",
            "Detergents_Paper   -0.001483\n",
            "Frozen             -0.021044\n",
            "Name: Region, dtype: float64\n"
          ]
        }
      ],
      "source": [
        "# Menghitung matriks korelasi\n",
        "correlation_matrix = dataset.corr()\n",
        "# Visualisasi matriks korelasi\n",
        "plt.figure(figsize=(12, 8))\n",
        "sns.heatmap(correlation_matrix, annot=True, cmap='coolwarm')\n",
        "plt.title('Correlation Matrix of Wholesale Customers Data')\n",
        "plt.show()\n",
        "# Melihat korelasi antara fitur dengan target variabel\n",
        "correlation_with_target = correlation_matrix['Region'].sort_values(ascending=False)\n",
        "print(\"\\nCorrelation of features with target variable (Region):\")\n",
        "print(correlation_with_target)"
      ]
    },
    {
      "cell_type": "markdown",
      "metadata": {
        "id": "gMJhewlDOkw3"
      },
      "source": [
        "## Memisahkan data menjadi X dan Y"
      ]
    },
    {
      "cell_type": "code",
      "execution_count": null,
      "metadata": {
        "colab": {
          "base_uri": "https://localhost:8080/"
        },
        "id": "OZNmkuDaOuGr",
        "outputId": "b03951bd-50fe-4683-ef91-35f0944b1141"
      },
      "outputs": [
        {
          "output_type": "stream",
          "name": "stdout",
          "text": [
            "\n",
            "Features included in the model:\n",
            "Index(['Region', 'Fresh', 'Milk', 'Grocery', 'Frozen', 'Detergents_Paper'], dtype='object')\n",
            "\n",
            "First few rows of X:\n",
            "   Region  Fresh  Milk  Grocery  Frozen  Detergents_Paper\n",
            "0       3  12669  9656     7561     214              2674\n",
            "1       3   7057  9810     9568    1762              3293\n",
            "2       3   6353  8808     7684    2405              3516\n",
            "3       3  13265  1196     4221    6404               507\n",
            "4       3  22615  5410     7198    3915              1777\n",
            "\n",
            "First few rows of Y:\n",
            "0    2\n",
            "1    2\n",
            "2    2\n",
            "3    1\n",
            "4    2\n",
            "Name: Channel, dtype: int64\n"
          ]
        }
      ],
      "source": [
        "# Fitur yang akan dihapus\n",
        "# features_to_drop = ['Fresh', 'Frozen', 'Delicassen']\n",
        "\n",
        "# Menghapus fitur yang tidak perlu\n",
        "X = dataset.drop(columns=['Channel', 'Delicassen'])\n",
        "Y = dataset['Channel']\n",
        "\n",
        "print(\"\\nFeatures included in the model:\")\n",
        "print(X.columns)\n",
        "\n",
        "# Menampilkan 5 baris pertama dari x dan y agar memastikan data mereka terpisah dengan benar.\n",
        "print(\"\\nFirst few rows of X:\")\n",
        "print(X.head())\n",
        "print(\"\\nFirst few rows of Y:\")\n",
        "print(Y.head())"
      ]
    },
    {
      "cell_type": "code",
      "execution_count": null,
      "metadata": {
        "colab": {
          "base_uri": "https://localhost:8080/"
        },
        "id": "-vHKIo6oP9z_",
        "outputId": "da74904c-1fa7-4323-ab89-4471c60281cc"
      },
      "outputs": [
        {
          "output_type": "stream",
          "name": "stdout",
          "text": [
            "\n",
            "Size of X_train: (352, 6)\n",
            "Size of X_test: (88, 6)\n",
            "Size of Y_train: (352,)\n",
            "Size of Y_test: (88,)\n",
            "\n",
            "First few rows of X_train:\n",
            "     Region  Fresh   Milk  Grocery  Frozen  Detergents_Paper\n",
            "266       1    572   9763    22182    2221              4882\n",
            "294       2  21273   2013     6550     909               811\n",
            "31        3   2612   4339     3133    2088               820\n",
            "84        3  11867   3327     4814    1178              3837\n",
            "301       2   5283  13316    20399    1809              8752\n",
            "\n",
            "First few rows of Y_train:\n",
            "266    2\n",
            "294    1\n",
            "31     1\n",
            "84     2\n",
            "301    2\n",
            "Name: Channel, dtype: int64\n",
            "\n",
            "First few rows of X_test:\n",
            "     Region  Fresh   Milk  Grocery  Frozen  Detergents_Paper\n",
            "265       1   5909  23527    13699   10155               830\n",
            "78        3  10766   1175     2067    2096               301\n",
            "347       3  27380   7184    12311    2809              4621\n",
            "255       1  31614    489     1495    3242               111\n",
            "327       2    542    899     1664     414                88\n",
            "\n",
            "First few rows of Y_test:\n",
            "265    1\n",
            "78     1\n",
            "347    2\n",
            "255    1\n",
            "327    1\n",
            "Name: Channel, dtype: int64\n"
          ]
        }
      ],
      "source": [
        "from sklearn.model_selection import train_test_split\n",
        "\n",
        "# Membagi dataset menjadi set pelatihan dan set pengujian\n",
        "data_split_ratio = 0.2  # 80% training, 20% testing\n",
        "X_train, X_test, y_train, y_test = train_test_split(X, Y, test_size=data_split_ratio, random_state=42)\n",
        "\n",
        "# Menampilkan ukuran setiap set\n",
        "print(\"\\nSize of X_train:\", X_train.shape)\n",
        "print(\"Size of X_test:\", X_test.shape)\n",
        "print(\"Size of Y_train:\", y_train.shape)\n",
        "print(\"Size of Y_test:\", y_test.shape)\n",
        "\n",
        "# Display beberapa baris pertama untuk memastikan data dipisahkan dengan benar\n",
        "print(\"\\nFirst few rows of X_train:\")\n",
        "print(X_train.head())\n",
        "\n",
        "print(\"\\nFirst few rows of Y_train:\")\n",
        "print(y_train.head())\n",
        "\n",
        "print(\"\\nFirst few rows of X_test:\")\n",
        "print(X_test.head())\n",
        "\n",
        "print(\"\\nFirst few rows of Y_test:\")\n",
        "print(y_test.head())"
      ]
    },
    {
      "cell_type": "markdown",
      "metadata": {
        "id": "4obaAf52QPDv"
      },
      "source": [
        "# **Feature Scaling**\n",
        "\n",
        "---\n",
        "Pada bagian ini, dilakukan penskalaan fitur sehingga mean sekitar 0 dan simpangan baku (standard deviation) sekitar 1. Dilakukan dengan menggunakan MinMaxScaler dari modul sklearn. Penskalaan fitur dilakukan agar semua fitur memiliki rentang nilai yang serupa sehingga dapat meningkatkan performa algoritma machine learning.\n"
      ]
    },
    {
      "cell_type": "code",
      "execution_count": null,
      "metadata": {
        "colab": {
          "base_uri": "https://localhost:8080/"
        },
        "id": "r6SwcW6XQqWb",
        "outputId": "12b6e8d9-5d80-46aa-d65b-2bad9cfdb0a4"
      },
      "outputs": [
        {
          "output_type": "stream",
          "name": "stdout",
          "text": [
            "\n",
            "Baris pertama dari X_train yang telah diskalakan:\n",
            "   Region     Fresh      Milk   Grocery    Frozen  Detergents_Paper\n",
            "0     0.0  0.007464  0.131510  0.237290  0.036092          0.119513\n",
            "1     0.5  0.279009  0.025904  0.068408  0.014529          0.019792\n",
            "2     1.0  0.034224  0.057600  0.031492  0.033906          0.020013\n",
            "3     1.0  0.155626  0.043809  0.049653  0.018950          0.093915\n",
            "4     0.5  0.069260  0.179925  0.218027  0.029321          0.214310\n",
            "\n",
            "Rata-rata dari X_train yang telah diskalakan:\n",
            "Region              0.747159\n",
            "Fresh               0.151109\n",
            "Milk                0.078735\n",
            "Grocery             0.085869\n",
            "Frozen              0.047785\n",
            "Detergents_Paper    0.074120\n",
            "dtype: float64\n",
            "\n",
            "Standar deviasi dari X_train yang telah diskalakan:\n",
            "Region              0.399420\n",
            "Fresh               0.148743\n",
            "Milk                0.104775\n",
            "Grocery             0.108552\n",
            "Frozen              0.078163\n",
            "Detergents_Paper    0.123941\n",
            "dtype: float64\n"
          ]
        }
      ],
      "source": [
        "# Init MinMaxScaler\n",
        "scaler = MinMaxScaler()\n",
        "\n",
        "# Fit scaler pada data pelatihan dan transformasi data pelatihan\n",
        "X_train_scaled = scaler.fit_transform(X_train)\n",
        "\n",
        "# Melakukan transformasi data uji menggunakan scaler yang sama\n",
        "X_test_scaled = scaler.transform(X_test)\n",
        "\n",
        "# Konversi data yang telah diskalakan kembali ke datafrme untuk memudahkan pembacaan\n",
        "X_train_scaled_df = pd.DataFrame(X_train_scaled, columns=X_train.columns)\n",
        "X_test_scaled_df = pd.DataFrame(X_test_scaled, columns=X_test.columns)\n",
        "\n",
        "# Tampilkan beberapa baris pertama dari data pelatihan yang telah diskalakan\n",
        "print(\"\\nBaris pertama dari X_train yang telah diskalakan:\")\n",
        "print(X_train_scaled_df.head())\n",
        "\n",
        "# Tampilkan rata-rata dari data pelatihan yang telah diskalakan\n",
        "print(\"\\nRata-rata dari X_train yang telah diskalakan:\")\n",
        "print(X_train_scaled_df.mean())\n",
        "\n",
        "# Tampilkan standar deviasi dari data pelatihan yang telah diskalakan\n",
        "print(\"\\nStandar deviasi dari X_train yang telah diskalakan:\")\n",
        "print(X_train_scaled_df.std())\n"
      ]
    },
    {
      "cell_type": "markdown",
      "metadata": {
        "id": "RTwM6XUcRAJ6"
      },
      "source": [
        "Menampilkan beberapa baris pertama dari X_train dan X_test untuk memastikan bahwa data telah dibagi dan dipisahkan dengan benar."
      ]
    },
    {
      "cell_type": "code",
      "execution_count": null,
      "metadata": {
        "colab": {
          "base_uri": "https://localhost:8080/"
        },
        "id": "NVint5feRDOj",
        "outputId": "2943ff2b-7aad-4049-ab8e-983294a3752d"
      },
      "outputs": [
        {
          "output_type": "stream",
          "name": "stdout",
          "text": [
            "Head of X_train: \n",
            "     Region  Fresh   Milk  Grocery  Frozen  Detergents_Paper\n",
            "266       1    572   9763    22182    2221              4882\n",
            "294       2  21273   2013     6550     909               811\n",
            "31        3   2612   4339     3133    2088               820\n",
            "84        3  11867   3327     4814    1178              3837\n",
            "301       2   5283  13316    20399    1809              8752\n",
            "\n",
            "Head of X_test: \n",
            "     Region  Fresh   Milk  Grocery  Frozen  Detergents_Paper\n",
            "265       1   5909  23527    13699   10155               830\n",
            "78        3  10766   1175     2067    2096               301\n",
            "347       3  27380   7184    12311    2809              4621\n",
            "255       1  31614    489     1495    3242               111\n",
            "327       2    542    899     1664     414                88\n"
          ]
        }
      ],
      "source": [
        "print(\"Head of X_train: \")\n",
        "print(X_train[:5])\n",
        "print(\"\\nHead of X_test: \")\n",
        "print(X_test[:5])"
      ]
    },
    {
      "cell_type": "markdown",
      "metadata": {
        "id": "ug4z1DTVRKFG"
      },
      "source": [
        "# **Metode KNN**"
      ]
    },
    {
      "cell_type": "markdown",
      "metadata": {
        "id": "6CUZJ0t6fCSK"
      },
      "source": [
        "## Initialize and train the KNN classifier with k=5 (default value)"
      ]
    },
    {
      "cell_type": "code",
      "execution_count": null,
      "metadata": {
        "colab": {
          "base_uri": "https://localhost:8080/",
          "height": 81
        },
        "id": "Qiyhoe7efBTX",
        "outputId": "da71abde-c0a6-4ab2-cbcf-3b3ae2db756e"
      },
      "outputs": [
        {
          "output_type": "execute_result",
          "data": {
            "text/plain": [
              "KNeighborsClassifier()"
            ],
            "text/html": [
              "<style>#sk-container-id-3 {\n",
              "  /* Definition of color scheme common for light and dark mode */\n",
              "  --sklearn-color-text: #000;\n",
              "  --sklearn-color-text-muted: #666;\n",
              "  --sklearn-color-line: gray;\n",
              "  /* Definition of color scheme for unfitted estimators */\n",
              "  --sklearn-color-unfitted-level-0: #fff5e6;\n",
              "  --sklearn-color-unfitted-level-1: #f6e4d2;\n",
              "  --sklearn-color-unfitted-level-2: #ffe0b3;\n",
              "  --sklearn-color-unfitted-level-3: chocolate;\n",
              "  /* Definition of color scheme for fitted estimators */\n",
              "  --sklearn-color-fitted-level-0: #f0f8ff;\n",
              "  --sklearn-color-fitted-level-1: #d4ebff;\n",
              "  --sklearn-color-fitted-level-2: #b3dbfd;\n",
              "  --sklearn-color-fitted-level-3: cornflowerblue;\n",
              "\n",
              "  /* Specific color for light theme */\n",
              "  --sklearn-color-text-on-default-background: var(--sg-text-color, var(--theme-code-foreground, var(--jp-content-font-color1, black)));\n",
              "  --sklearn-color-background: var(--sg-background-color, var(--theme-background, var(--jp-layout-color0, white)));\n",
              "  --sklearn-color-border-box: var(--sg-text-color, var(--theme-code-foreground, var(--jp-content-font-color1, black)));\n",
              "  --sklearn-color-icon: #696969;\n",
              "\n",
              "  @media (prefers-color-scheme: dark) {\n",
              "    /* Redefinition of color scheme for dark theme */\n",
              "    --sklearn-color-text-on-default-background: var(--sg-text-color, var(--theme-code-foreground, var(--jp-content-font-color1, white)));\n",
              "    --sklearn-color-background: var(--sg-background-color, var(--theme-background, var(--jp-layout-color0, #111)));\n",
              "    --sklearn-color-border-box: var(--sg-text-color, var(--theme-code-foreground, var(--jp-content-font-color1, white)));\n",
              "    --sklearn-color-icon: #878787;\n",
              "  }\n",
              "}\n",
              "\n",
              "#sk-container-id-3 {\n",
              "  color: var(--sklearn-color-text);\n",
              "}\n",
              "\n",
              "#sk-container-id-3 pre {\n",
              "  padding: 0;\n",
              "}\n",
              "\n",
              "#sk-container-id-3 input.sk-hidden--visually {\n",
              "  border: 0;\n",
              "  clip: rect(1px 1px 1px 1px);\n",
              "  clip: rect(1px, 1px, 1px, 1px);\n",
              "  height: 1px;\n",
              "  margin: -1px;\n",
              "  overflow: hidden;\n",
              "  padding: 0;\n",
              "  position: absolute;\n",
              "  width: 1px;\n",
              "}\n",
              "\n",
              "#sk-container-id-3 div.sk-dashed-wrapped {\n",
              "  border: 1px dashed var(--sklearn-color-line);\n",
              "  margin: 0 0.4em 0.5em 0.4em;\n",
              "  box-sizing: border-box;\n",
              "  padding-bottom: 0.4em;\n",
              "  background-color: var(--sklearn-color-background);\n",
              "}\n",
              "\n",
              "#sk-container-id-3 div.sk-container {\n",
              "  /* jupyter's `normalize.less` sets `[hidden] { display: none; }`\n",
              "     but bootstrap.min.css set `[hidden] { display: none !important; }`\n",
              "     so we also need the `!important` here to be able to override the\n",
              "     default hidden behavior on the sphinx rendered scikit-learn.org.\n",
              "     See: https://github.com/scikit-learn/scikit-learn/issues/21755 */\n",
              "  display: inline-block !important;\n",
              "  position: relative;\n",
              "}\n",
              "\n",
              "#sk-container-id-3 div.sk-text-repr-fallback {\n",
              "  display: none;\n",
              "}\n",
              "\n",
              "div.sk-parallel-item,\n",
              "div.sk-serial,\n",
              "div.sk-item {\n",
              "  /* draw centered vertical line to link estimators */\n",
              "  background-image: linear-gradient(var(--sklearn-color-text-on-default-background), var(--sklearn-color-text-on-default-background));\n",
              "  background-size: 2px 100%;\n",
              "  background-repeat: no-repeat;\n",
              "  background-position: center center;\n",
              "}\n",
              "\n",
              "/* Parallel-specific style estimator block */\n",
              "\n",
              "#sk-container-id-3 div.sk-parallel-item::after {\n",
              "  content: \"\";\n",
              "  width: 100%;\n",
              "  border-bottom: 2px solid var(--sklearn-color-text-on-default-background);\n",
              "  flex-grow: 1;\n",
              "}\n",
              "\n",
              "#sk-container-id-3 div.sk-parallel {\n",
              "  display: flex;\n",
              "  align-items: stretch;\n",
              "  justify-content: center;\n",
              "  background-color: var(--sklearn-color-background);\n",
              "  position: relative;\n",
              "}\n",
              "\n",
              "#sk-container-id-3 div.sk-parallel-item {\n",
              "  display: flex;\n",
              "  flex-direction: column;\n",
              "}\n",
              "\n",
              "#sk-container-id-3 div.sk-parallel-item:first-child::after {\n",
              "  align-self: flex-end;\n",
              "  width: 50%;\n",
              "}\n",
              "\n",
              "#sk-container-id-3 div.sk-parallel-item:last-child::after {\n",
              "  align-self: flex-start;\n",
              "  width: 50%;\n",
              "}\n",
              "\n",
              "#sk-container-id-3 div.sk-parallel-item:only-child::after {\n",
              "  width: 0;\n",
              "}\n",
              "\n",
              "/* Serial-specific style estimator block */\n",
              "\n",
              "#sk-container-id-3 div.sk-serial {\n",
              "  display: flex;\n",
              "  flex-direction: column;\n",
              "  align-items: center;\n",
              "  background-color: var(--sklearn-color-background);\n",
              "  padding-right: 1em;\n",
              "  padding-left: 1em;\n",
              "}\n",
              "\n",
              "\n",
              "/* Toggleable style: style used for estimator/Pipeline/ColumnTransformer box that is\n",
              "clickable and can be expanded/collapsed.\n",
              "- Pipeline and ColumnTransformer use this feature and define the default style\n",
              "- Estimators will overwrite some part of the style using the `sk-estimator` class\n",
              "*/\n",
              "\n",
              "/* Pipeline and ColumnTransformer style (default) */\n",
              "\n",
              "#sk-container-id-3 div.sk-toggleable {\n",
              "  /* Default theme specific background. It is overwritten whether we have a\n",
              "  specific estimator or a Pipeline/ColumnTransformer */\n",
              "  background-color: var(--sklearn-color-background);\n",
              "}\n",
              "\n",
              "/* Toggleable label */\n",
              "#sk-container-id-3 label.sk-toggleable__label {\n",
              "  cursor: pointer;\n",
              "  display: flex;\n",
              "  width: 100%;\n",
              "  margin-bottom: 0;\n",
              "  padding: 0.5em;\n",
              "  box-sizing: border-box;\n",
              "  text-align: center;\n",
              "  align-items: start;\n",
              "  justify-content: space-between;\n",
              "  gap: 0.5em;\n",
              "}\n",
              "\n",
              "#sk-container-id-3 label.sk-toggleable__label .caption {\n",
              "  font-size: 0.6rem;\n",
              "  font-weight: lighter;\n",
              "  color: var(--sklearn-color-text-muted);\n",
              "}\n",
              "\n",
              "#sk-container-id-3 label.sk-toggleable__label-arrow:before {\n",
              "  /* Arrow on the left of the label */\n",
              "  content: \"▸\";\n",
              "  float: left;\n",
              "  margin-right: 0.25em;\n",
              "  color: var(--sklearn-color-icon);\n",
              "}\n",
              "\n",
              "#sk-container-id-3 label.sk-toggleable__label-arrow:hover:before {\n",
              "  color: var(--sklearn-color-text);\n",
              "}\n",
              "\n",
              "/* Toggleable content - dropdown */\n",
              "\n",
              "#sk-container-id-3 div.sk-toggleable__content {\n",
              "  max-height: 0;\n",
              "  max-width: 0;\n",
              "  overflow: hidden;\n",
              "  text-align: left;\n",
              "  /* unfitted */\n",
              "  background-color: var(--sklearn-color-unfitted-level-0);\n",
              "}\n",
              "\n",
              "#sk-container-id-3 div.sk-toggleable__content.fitted {\n",
              "  /* fitted */\n",
              "  background-color: var(--sklearn-color-fitted-level-0);\n",
              "}\n",
              "\n",
              "#sk-container-id-3 div.sk-toggleable__content pre {\n",
              "  margin: 0.2em;\n",
              "  border-radius: 0.25em;\n",
              "  color: var(--sklearn-color-text);\n",
              "  /* unfitted */\n",
              "  background-color: var(--sklearn-color-unfitted-level-0);\n",
              "}\n",
              "\n",
              "#sk-container-id-3 div.sk-toggleable__content.fitted pre {\n",
              "  /* unfitted */\n",
              "  background-color: var(--sklearn-color-fitted-level-0);\n",
              "}\n",
              "\n",
              "#sk-container-id-3 input.sk-toggleable__control:checked~div.sk-toggleable__content {\n",
              "  /* Expand drop-down */\n",
              "  max-height: 200px;\n",
              "  max-width: 100%;\n",
              "  overflow: auto;\n",
              "}\n",
              "\n",
              "#sk-container-id-3 input.sk-toggleable__control:checked~label.sk-toggleable__label-arrow:before {\n",
              "  content: \"▾\";\n",
              "}\n",
              "\n",
              "/* Pipeline/ColumnTransformer-specific style */\n",
              "\n",
              "#sk-container-id-3 div.sk-label input.sk-toggleable__control:checked~label.sk-toggleable__label {\n",
              "  color: var(--sklearn-color-text);\n",
              "  background-color: var(--sklearn-color-unfitted-level-2);\n",
              "}\n",
              "\n",
              "#sk-container-id-3 div.sk-label.fitted input.sk-toggleable__control:checked~label.sk-toggleable__label {\n",
              "  background-color: var(--sklearn-color-fitted-level-2);\n",
              "}\n",
              "\n",
              "/* Estimator-specific style */\n",
              "\n",
              "/* Colorize estimator box */\n",
              "#sk-container-id-3 div.sk-estimator input.sk-toggleable__control:checked~label.sk-toggleable__label {\n",
              "  /* unfitted */\n",
              "  background-color: var(--sklearn-color-unfitted-level-2);\n",
              "}\n",
              "\n",
              "#sk-container-id-3 div.sk-estimator.fitted input.sk-toggleable__control:checked~label.sk-toggleable__label {\n",
              "  /* fitted */\n",
              "  background-color: var(--sklearn-color-fitted-level-2);\n",
              "}\n",
              "\n",
              "#sk-container-id-3 div.sk-label label.sk-toggleable__label,\n",
              "#sk-container-id-3 div.sk-label label {\n",
              "  /* The background is the default theme color */\n",
              "  color: var(--sklearn-color-text-on-default-background);\n",
              "}\n",
              "\n",
              "/* On hover, darken the color of the background */\n",
              "#sk-container-id-3 div.sk-label:hover label.sk-toggleable__label {\n",
              "  color: var(--sklearn-color-text);\n",
              "  background-color: var(--sklearn-color-unfitted-level-2);\n",
              "}\n",
              "\n",
              "/* Label box, darken color on hover, fitted */\n",
              "#sk-container-id-3 div.sk-label.fitted:hover label.sk-toggleable__label.fitted {\n",
              "  color: var(--sklearn-color-text);\n",
              "  background-color: var(--sklearn-color-fitted-level-2);\n",
              "}\n",
              "\n",
              "/* Estimator label */\n",
              "\n",
              "#sk-container-id-3 div.sk-label label {\n",
              "  font-family: monospace;\n",
              "  font-weight: bold;\n",
              "  display: inline-block;\n",
              "  line-height: 1.2em;\n",
              "}\n",
              "\n",
              "#sk-container-id-3 div.sk-label-container {\n",
              "  text-align: center;\n",
              "}\n",
              "\n",
              "/* Estimator-specific */\n",
              "#sk-container-id-3 div.sk-estimator {\n",
              "  font-family: monospace;\n",
              "  border: 1px dotted var(--sklearn-color-border-box);\n",
              "  border-radius: 0.25em;\n",
              "  box-sizing: border-box;\n",
              "  margin-bottom: 0.5em;\n",
              "  /* unfitted */\n",
              "  background-color: var(--sklearn-color-unfitted-level-0);\n",
              "}\n",
              "\n",
              "#sk-container-id-3 div.sk-estimator.fitted {\n",
              "  /* fitted */\n",
              "  background-color: var(--sklearn-color-fitted-level-0);\n",
              "}\n",
              "\n",
              "/* on hover */\n",
              "#sk-container-id-3 div.sk-estimator:hover {\n",
              "  /* unfitted */\n",
              "  background-color: var(--sklearn-color-unfitted-level-2);\n",
              "}\n",
              "\n",
              "#sk-container-id-3 div.sk-estimator.fitted:hover {\n",
              "  /* fitted */\n",
              "  background-color: var(--sklearn-color-fitted-level-2);\n",
              "}\n",
              "\n",
              "/* Specification for estimator info (e.g. \"i\" and \"?\") */\n",
              "\n",
              "/* Common style for \"i\" and \"?\" */\n",
              "\n",
              ".sk-estimator-doc-link,\n",
              "a:link.sk-estimator-doc-link,\n",
              "a:visited.sk-estimator-doc-link {\n",
              "  float: right;\n",
              "  font-size: smaller;\n",
              "  line-height: 1em;\n",
              "  font-family: monospace;\n",
              "  background-color: var(--sklearn-color-background);\n",
              "  border-radius: 1em;\n",
              "  height: 1em;\n",
              "  width: 1em;\n",
              "  text-decoration: none !important;\n",
              "  margin-left: 0.5em;\n",
              "  text-align: center;\n",
              "  /* unfitted */\n",
              "  border: var(--sklearn-color-unfitted-level-1) 1pt solid;\n",
              "  color: var(--sklearn-color-unfitted-level-1);\n",
              "}\n",
              "\n",
              ".sk-estimator-doc-link.fitted,\n",
              "a:link.sk-estimator-doc-link.fitted,\n",
              "a:visited.sk-estimator-doc-link.fitted {\n",
              "  /* fitted */\n",
              "  border: var(--sklearn-color-fitted-level-1) 1pt solid;\n",
              "  color: var(--sklearn-color-fitted-level-1);\n",
              "}\n",
              "\n",
              "/* On hover */\n",
              "div.sk-estimator:hover .sk-estimator-doc-link:hover,\n",
              ".sk-estimator-doc-link:hover,\n",
              "div.sk-label-container:hover .sk-estimator-doc-link:hover,\n",
              ".sk-estimator-doc-link:hover {\n",
              "  /* unfitted */\n",
              "  background-color: var(--sklearn-color-unfitted-level-3);\n",
              "  color: var(--sklearn-color-background);\n",
              "  text-decoration: none;\n",
              "}\n",
              "\n",
              "div.sk-estimator.fitted:hover .sk-estimator-doc-link.fitted:hover,\n",
              ".sk-estimator-doc-link.fitted:hover,\n",
              "div.sk-label-container:hover .sk-estimator-doc-link.fitted:hover,\n",
              ".sk-estimator-doc-link.fitted:hover {\n",
              "  /* fitted */\n",
              "  background-color: var(--sklearn-color-fitted-level-3);\n",
              "  color: var(--sklearn-color-background);\n",
              "  text-decoration: none;\n",
              "}\n",
              "\n",
              "/* Span, style for the box shown on hovering the info icon */\n",
              ".sk-estimator-doc-link span {\n",
              "  display: none;\n",
              "  z-index: 9999;\n",
              "  position: relative;\n",
              "  font-weight: normal;\n",
              "  right: .2ex;\n",
              "  padding: .5ex;\n",
              "  margin: .5ex;\n",
              "  width: min-content;\n",
              "  min-width: 20ex;\n",
              "  max-width: 50ex;\n",
              "  color: var(--sklearn-color-text);\n",
              "  box-shadow: 2pt 2pt 4pt #999;\n",
              "  /* unfitted */\n",
              "  background: var(--sklearn-color-unfitted-level-0);\n",
              "  border: .5pt solid var(--sklearn-color-unfitted-level-3);\n",
              "}\n",
              "\n",
              ".sk-estimator-doc-link.fitted span {\n",
              "  /* fitted */\n",
              "  background: var(--sklearn-color-fitted-level-0);\n",
              "  border: var(--sklearn-color-fitted-level-3);\n",
              "}\n",
              "\n",
              ".sk-estimator-doc-link:hover span {\n",
              "  display: block;\n",
              "}\n",
              "\n",
              "/* \"?\"-specific style due to the `<a>` HTML tag */\n",
              "\n",
              "#sk-container-id-3 a.estimator_doc_link {\n",
              "  float: right;\n",
              "  font-size: 1rem;\n",
              "  line-height: 1em;\n",
              "  font-family: monospace;\n",
              "  background-color: var(--sklearn-color-background);\n",
              "  border-radius: 1rem;\n",
              "  height: 1rem;\n",
              "  width: 1rem;\n",
              "  text-decoration: none;\n",
              "  /* unfitted */\n",
              "  color: var(--sklearn-color-unfitted-level-1);\n",
              "  border: var(--sklearn-color-unfitted-level-1) 1pt solid;\n",
              "}\n",
              "\n",
              "#sk-container-id-3 a.estimator_doc_link.fitted {\n",
              "  /* fitted */\n",
              "  border: var(--sklearn-color-fitted-level-1) 1pt solid;\n",
              "  color: var(--sklearn-color-fitted-level-1);\n",
              "}\n",
              "\n",
              "/* On hover */\n",
              "#sk-container-id-3 a.estimator_doc_link:hover {\n",
              "  /* unfitted */\n",
              "  background-color: var(--sklearn-color-unfitted-level-3);\n",
              "  color: var(--sklearn-color-background);\n",
              "  text-decoration: none;\n",
              "}\n",
              "\n",
              "#sk-container-id-3 a.estimator_doc_link.fitted:hover {\n",
              "  /* fitted */\n",
              "  background-color: var(--sklearn-color-fitted-level-3);\n",
              "}\n",
              "</style><div id=\"sk-container-id-3\" class=\"sk-top-container\"><div class=\"sk-text-repr-fallback\"><pre>KNeighborsClassifier()</pre><b>In a Jupyter environment, please rerun this cell to show the HTML representation or trust the notebook. <br />On GitHub, the HTML representation is unable to render, please try loading this page with nbviewer.org.</b></div><div class=\"sk-container\" hidden><div class=\"sk-item\"><div class=\"sk-estimator fitted sk-toggleable\"><input class=\"sk-toggleable__control sk-hidden--visually\" id=\"sk-estimator-id-3\" type=\"checkbox\" checked><label for=\"sk-estimator-id-3\" class=\"sk-toggleable__label fitted sk-toggleable__label-arrow\"><div><div>KNeighborsClassifier</div></div><div><a class=\"sk-estimator-doc-link fitted\" rel=\"noreferrer\" target=\"_blank\" href=\"https://scikit-learn.org/1.6/modules/generated/sklearn.neighbors.KNeighborsClassifier.html\">?<span>Documentation for KNeighborsClassifier</span></a><span class=\"sk-estimator-doc-link fitted\">i<span>Fitted</span></span></div></label><div class=\"sk-toggleable__content fitted\"><pre>KNeighborsClassifier()</pre></div> </div></div></div></div>"
            ]
          },
          "metadata": {},
          "execution_count": 31
        }
      ],
      "source": [
        "from sklearn.neighbors import KNeighborsClassifier # Import KNeighborsClassifier\n",
        "knn = KNeighborsClassifier(n_neighbors=5)  # Initialize the model\n",
        "knn.fit(X_train_scaled, y_train)  # Train the model"
      ]
    },
    {
      "cell_type": "markdown",
      "metadata": {
        "id": "x_4ydEE4fJ2g"
      },
      "source": [
        "## Predict and evaluate the model with test data"
      ]
    },
    {
      "cell_type": "code",
      "execution_count": null,
      "metadata": {
        "colab": {
          "base_uri": "https://localhost:8080/"
        },
        "id": "28odo1cDfJgs",
        "outputId": "36c7d37b-f84a-49f7-be13-80513d405b26"
      },
      "outputs": [
        {
          "output_type": "stream",
          "name": "stdout",
          "text": [
            "              precision    recall  f1-score   support\n",
            "\n",
            "           1       0.97      0.88      0.92        65\n",
            "           2       0.72      0.91      0.81        23\n",
            "\n",
            "    accuracy                           0.89        88\n",
            "   macro avg       0.85      0.89      0.86        88\n",
            "weighted avg       0.90      0.89      0.89        88\n",
            "\n",
            "0.8863636363636364\n"
          ]
        }
      ],
      "source": [
        "from sklearn.metrics import accuracy_score, classification_report # Import accuracy_score and classification_report\n",
        "y_pred = knn.predict(X_test_scaled)  # Predict the test set\n",
        "default_accuracy = accuracy_score(y_test, y_pred)  # Calculate accuracy\n",
        "default_classification_rep = classification_report(y_test, y_pred)  # Generate classification report\n",
        "print(default_classification_rep)\n",
        "print(default_accuracy)"
      ]
    },
    {
      "cell_type": "markdown",
      "metadata": {
        "id": "Yvre6EA0fYfo"
      },
      "source": [
        "## Evaluate KNN accuracy across different k values to find optimal k value\n"
      ]
    },
    {
      "cell_type": "code",
      "execution_count": null,
      "metadata": {
        "colab": {
          "base_uri": "https://localhost:8080/",
          "height": 564
        },
        "id": "cfbVOmbufmJd",
        "outputId": "71b403e1-832a-4f02-b64d-be58c6d6c1aa"
      },
      "outputs": [
        {
          "output_type": "display_data",
          "data": {
            "text/plain": [
              "<Figure size 1000x600 with 1 Axes>"
            ],
            "image/png": "[encoded data removed]"
          },
          "metadata": {}
        }
      ],
      "source": [
        "\n",
        "k_values = range(1, 30)\n",
        "accuracies = []  # Store accuracy for each k\n",
        "\n",
        "for k in k_values:\n",
        "    knn = KNeighborsClassifier(n_neighbors=k)  # Initialize KNN with current k\n",
        "    knn.fit(X_train_scaled, y_train)  # Train the model\n",
        "    y_pred = knn.predict(X_test_scaled)  # Predict on the test set\n",
        "    accuracies.append(accuracy_score(y_test, y_pred))  # Calculate and store accuracy\n",
        "\n",
        "# Plot accuracy vs. k\n",
        "plt.figure(figsize=(10, 6))\n",
        "plt.plot(k_values, accuracies, marker='o', linestyle='-', linewidth=2)\n",
        "plt.xlabel('Number of Neighbors (k)')\n",
        "plt.ylabel('Accuracy')\n",
        "plt.title('KNN Accuracy Across Different k Values')\n",
        "plt.grid(True)\n",
        "plt.xticks(k_values)\n",
        "plt.show()"
      ]
    },
    {
      "cell_type": "markdown",
      "metadata": {
        "id": "zZAlAlPMfu50"
      },
      "source": [
        "## Train the model with optimal k value (k=4)"
      ]
    },
    {
      "cell_type": "code",
      "execution_count": null,
      "metadata": {
        "colab": {
          "base_uri": "https://localhost:8080/",
          "height": 81
        },
        "id": "aCItJso6f0VN",
        "outputId": "5f684f97-8534-4341-fc15-05aa2505a8ab"
      },
      "outputs": [
        {
          "output_type": "execute_result",
          "data": {
            "text/plain": [
              "KNeighborsClassifier(n_neighbors=4)"
            ],
            "text/html": [
              "<style>#sk-container-id-4 {\n",
              "  /* Definition of color scheme common for light and dark mode */\n",
              "  --sklearn-color-text: #000;\n",
              "  --sklearn-color-text-muted: #666;\n",
              "  --sklearn-color-line: gray;\n",
              "  /* Definition of color scheme for unfitted estimators */\n",
              "  --sklearn-color-unfitted-level-0: #fff5e6;\n",
              "  --sklearn-color-unfitted-level-1: #f6e4d2;\n",
              "  --sklearn-color-unfitted-level-2: #ffe0b3;\n",
              "  --sklearn-color-unfitted-level-3: chocolate;\n",
              "  /* Definition of color scheme for fitted estimators */\n",
              "  --sklearn-color-fitted-level-0: #f0f8ff;\n",
              "  --sklearn-color-fitted-level-1: #d4ebff;\n",
              "  --sklearn-color-fitted-level-2: #b3dbfd;\n",
              "  --sklearn-color-fitted-level-3: cornflowerblue;\n",
              "\n",
              "  /* Specific color for light theme */\n",
              "  --sklearn-color-text-on-default-background: var(--sg-text-color, var(--theme-code-foreground, var(--jp-content-font-color1, black)));\n",
              "  --sklearn-color-background: var(--sg-background-color, var(--theme-background, var(--jp-layout-color0, white)));\n",
              "  --sklearn-color-border-box: var(--sg-text-color, var(--theme-code-foreground, var(--jp-content-font-color1, black)));\n",
              "  --sklearn-color-icon: #696969;\n",
              "\n",
              "  @media (prefers-color-scheme: dark) {\n",
              "    /* Redefinition of color scheme for dark theme */\n",
              "    --sklearn-color-text-on-default-background: var(--sg-text-color, var(--theme-code-foreground, var(--jp-content-font-color1, white)));\n",
              "    --sklearn-color-background: var(--sg-background-color, var(--theme-background, var(--jp-layout-color0, #111)));\n",
              "    --sklearn-color-border-box: var(--sg-text-color, var(--theme-code-foreground, var(--jp-content-font-color1, white)));\n",
              "    --sklearn-color-icon: #878787;\n",
              "  }\n",
              "}\n",
              "\n",
              "#sk-container-id-4 {\n",
              "  color: var(--sklearn-color-text);\n",
              "}\n",
              "\n",
              "#sk-container-id-4 pre {\n",
              "  padding: 0;\n",
              "}\n",
              "\n",
              "#sk-container-id-4 input.sk-hidden--visually {\n",
              "  border: 0;\n",
              "  clip: rect(1px 1px 1px 1px);\n",
              "  clip: rect(1px, 1px, 1px, 1px);\n",
              "  height: 1px;\n",
              "  margin: -1px;\n",
              "  overflow: hidden;\n",
              "  padding: 0;\n",
              "  position: absolute;\n",
              "  width: 1px;\n",
              "}\n",
              "\n",
              "#sk-container-id-4 div.sk-dashed-wrapped {\n",
              "  border: 1px dashed var(--sklearn-color-line);\n",
              "  margin: 0 0.4em 0.5em 0.4em;\n",
              "  box-sizing: border-box;\n",
              "  padding-bottom: 0.4em;\n",
              "  background-color: var(--sklearn-color-background);\n",
              "}\n",
              "\n",
              "#sk-container-id-4 div.sk-container {\n",
              "  /* jupyter's `normalize.less` sets `[hidden] { display: none; }`\n",
              "     but bootstrap.min.css set `[hidden] { display: none !important; }`\n",
              "     so we also need the `!important` here to be able to override the\n",
              "     default hidden behavior on the sphinx rendered scikit-learn.org.\n",
              "     See: https://github.com/scikit-learn/scikit-learn/issues/21755 */\n",
              "  display: inline-block !important;\n",
              "  position: relative;\n",
              "}\n",
              "\n",
              "#sk-container-id-4 div.sk-text-repr-fallback {\n",
              "  display: none;\n",
              "}\n",
              "\n",
              "div.sk-parallel-item,\n",
              "div.sk-serial,\n",
              "div.sk-item {\n",
              "  /* draw centered vertical line to link estimators */\n",
              "  background-image: linear-gradient(var(--sklearn-color-text-on-default-background), var(--sklearn-color-text-on-default-background));\n",
              "  background-size: 2px 100%;\n",
              "  background-repeat: no-repeat;\n",
              "  background-position: center center;\n",
              "}\n",
              "\n",
              "/* Parallel-specific style estimator block */\n",
              "\n",
              "#sk-container-id-4 div.sk-parallel-item::after {\n",
              "  content: \"\";\n",
              "  width: 100%;\n",
              "  border-bottom: 2px solid var(--sklearn-color-text-on-default-background);\n",
              "  flex-grow: 1;\n",
              "}\n",
              "\n",
              "#sk-container-id-4 div.sk-parallel {\n",
              "  display: flex;\n",
              "  align-items: stretch;\n",
              "  justify-content: center;\n",
              "  background-color: var(--sklearn-color-background);\n",
              "  position: relative;\n",
              "}\n",
              "\n",
              "#sk-container-id-4 div.sk-parallel-item {\n",
              "  display: flex;\n",
              "  flex-direction: column;\n",
              "}\n",
              "\n",
              "#sk-container-id-4 div.sk-parallel-item:first-child::after {\n",
              "  align-self: flex-end;\n",
              "  width: 50%;\n",
              "}\n",
              "\n",
              "#sk-container-id-4 div.sk-parallel-item:last-child::after {\n",
              "  align-self: flex-start;\n",
              "  width: 50%;\n",
              "}\n",
              "\n",
              "#sk-container-id-4 div.sk-parallel-item:only-child::after {\n",
              "  width: 0;\n",
              "}\n",
              "\n",
              "/* Serial-specific style estimator block */\n",
              "\n",
              "#sk-container-id-4 div.sk-serial {\n",
              "  display: flex;\n",
              "  flex-direction: column;\n",
              "  align-items: center;\n",
              "  background-color: var(--sklearn-color-background);\n",
              "  padding-right: 1em;\n",
              "  padding-left: 1em;\n",
              "}\n",
              "\n",
              "\n",
              "/* Toggleable style: style used for estimator/Pipeline/ColumnTransformer box that is\n",
              "clickable and can be expanded/collapsed.\n",
              "- Pipeline and ColumnTransformer use this feature and define the default style\n",
              "- Estimators will overwrite some part of the style using the `sk-estimator` class\n",
              "*/\n",
              "\n",
              "/* Pipeline and ColumnTransformer style (default) */\n",
              "\n",
              "#sk-container-id-4 div.sk-toggleable {\n",
              "  /* Default theme specific background. It is overwritten whether we have a\n",
              "  specific estimator or a Pipeline/ColumnTransformer */\n",
              "  background-color: var(--sklearn-color-background);\n",
              "}\n",
              "\n",
              "/* Toggleable label */\n",
              "#sk-container-id-4 label.sk-toggleable__label {\n",
              "  cursor: pointer;\n",
              "  display: flex;\n",
              "  width: 100%;\n",
              "  margin-bottom: 0;\n",
              "  padding: 0.5em;\n",
              "  box-sizing: border-box;\n",
              "  text-align: center;\n",
              "  align-items: start;\n",
              "  justify-content: space-between;\n",
              "  gap: 0.5em;\n",
              "}\n",
              "\n",
              "#sk-container-id-4 label.sk-toggleable__label .caption {\n",
              "  font-size: 0.6rem;\n",
              "  font-weight: lighter;\n",
              "  color: var(--sklearn-color-text-muted);\n",
              "}\n",
              "\n",
              "#sk-container-id-4 label.sk-toggleable__label-arrow:before {\n",
              "  /* Arrow on the left of the label */\n",
              "  content: \"▸\";\n",
              "  float: left;\n",
              "  margin-right: 0.25em;\n",
              "  color: var(--sklearn-color-icon);\n",
              "}\n",
              "\n",
              "#sk-container-id-4 label.sk-toggleable__label-arrow:hover:before {\n",
              "  color: var(--sklearn-color-text);\n",
              "}\n",
              "\n",
              "/* Toggleable content - dropdown */\n",
              "\n",
              "#sk-container-id-4 div.sk-toggleable__content {\n",
              "  max-height: 0;\n",
              "  max-width: 0;\n",
              "  overflow: hidden;\n",
              "  text-align: left;\n",
              "  /* unfitted */\n",
              "  background-color: var(--sklearn-color-unfitted-level-0);\n",
              "}\n",
              "\n",
              "#sk-container-id-4 div.sk-toggleable__content.fitted {\n",
              "  /* fitted */\n",
              "  background-color: var(--sklearn-color-fitted-level-0);\n",
              "}\n",
              "\n",
              "#sk-container-id-4 div.sk-toggleable__content pre {\n",
              "  margin: 0.2em;\n",
              "  border-radius: 0.25em;\n",
              "  color: var(--sklearn-color-text);\n",
              "  /* unfitted */\n",
              "  background-color: var(--sklearn-color-unfitted-level-0);\n",
              "}\n",
              "\n",
              "#sk-container-id-4 div.sk-toggleable__content.fitted pre {\n",
              "  /* unfitted */\n",
              "  background-color: var(--sklearn-color-fitted-level-0);\n",
              "}\n",
              "\n",
              "#sk-container-id-4 input.sk-toggleable__control:checked~div.sk-toggleable__content {\n",
              "  /* Expand drop-down */\n",
              "  max-height: 200px;\n",
              "  max-width: 100%;\n",
              "  overflow: auto;\n",
              "}\n",
              "\n",
              "#sk-container-id-4 input.sk-toggleable__control:checked~label.sk-toggleable__label-arrow:before {\n",
              "  content: \"▾\";\n",
              "}\n",
              "\n",
              "/* Pipeline/ColumnTransformer-specific style */\n",
              "\n",
              "#sk-container-id-4 div.sk-label input.sk-toggleable__control:checked~label.sk-toggleable__label {\n",
              "  color: var(--sklearn-color-text);\n",
              "  background-color: var(--sklearn-color-unfitted-level-2);\n",
              "}\n",
              "\n",
              "#sk-container-id-4 div.sk-label.fitted input.sk-toggleable__control:checked~label.sk-toggleable__label {\n",
              "  background-color: var(--sklearn-color-fitted-level-2);\n",
              "}\n",
              "\n",
              "/* Estimator-specific style */\n",
              "\n",
              "/* Colorize estimator box */\n",
              "#sk-container-id-4 div.sk-estimator input.sk-toggleable__control:checked~label.sk-toggleable__label {\n",
              "  /* unfitted */\n",
              "  background-color: var(--sklearn-color-unfitted-level-2);\n",
              "}\n",
              "\n",
              "#sk-container-id-4 div.sk-estimator.fitted input.sk-toggleable__control:checked~label.sk-toggleable__label {\n",
              "  /* fitted */\n",
              "  background-color: var(--sklearn-color-fitted-level-2);\n",
              "}\n",
              "\n",
              "#sk-container-id-4 div.sk-label label.sk-toggleable__label,\n",
              "#sk-container-id-4 div.sk-label label {\n",
              "  /* The background is the default theme color */\n",
              "  color: var(--sklearn-color-text-on-default-background);\n",
              "}\n",
              "\n",
              "/* On hover, darken the color of the background */\n",
              "#sk-container-id-4 div.sk-label:hover label.sk-toggleable__label {\n",
              "  color: var(--sklearn-color-text);\n",
              "  background-color: var(--sklearn-color-unfitted-level-2);\n",
              "}\n",
              "\n",
              "/* Label box, darken color on hover, fitted */\n",
              "#sk-container-id-4 div.sk-label.fitted:hover label.sk-toggleable__label.fitted {\n",
              "  color: var(--sklearn-color-text);\n",
              "  background-color: var(--sklearn-color-fitted-level-2);\n",
              "}\n",
              "\n",
              "/* Estimator label */\n",
              "\n",
              "#sk-container-id-4 div.sk-label label {\n",
              "  font-family: monospace;\n",
              "  font-weight: bold;\n",
              "  display: inline-block;\n",
              "  line-height: 1.2em;\n",
              "}\n",
              "\n",
              "#sk-container-id-4 div.sk-label-container {\n",
              "  text-align: center;\n",
              "}\n",
              "\n",
              "/* Estimator-specific */\n",
              "#sk-container-id-4 div.sk-estimator {\n",
              "  font-family: monospace;\n",
              "  border: 1px dotted var(--sklearn-color-border-box);\n",
              "  border-radius: 0.25em;\n",
              "  box-sizing: border-box;\n",
              "  margin-bottom: 0.5em;\n",
              "  /* unfitted */\n",
              "  background-color: var(--sklearn-color-unfitted-level-0);\n",
              "}\n",
              "\n",
              "#sk-container-id-4 div.sk-estimator.fitted {\n",
              "  /* fitted */\n",
              "  background-color: var(--sklearn-color-fitted-level-0);\n",
              "}\n",
              "\n",
              "/* on hover */\n",
              "#sk-container-id-4 div.sk-estimator:hover {\n",
              "  /* unfitted */\n",
              "  background-color: var(--sklearn-color-unfitted-level-2);\n",
              "}\n",
              "\n",
              "#sk-container-id-4 div.sk-estimator.fitted:hover {\n",
              "  /* fitted */\n",
              "  background-color: var(--sklearn-color-fitted-level-2);\n",
              "}\n",
              "\n",
              "/* Specification for estimator info (e.g. \"i\" and \"?\") */\n",
              "\n",
              "/* Common style for \"i\" and \"?\" */\n",
              "\n",
              ".sk-estimator-doc-link,\n",
              "a:link.sk-estimator-doc-link,\n",
              "a:visited.sk-estimator-doc-link {\n",
              "  float: right;\n",
              "  font-size: smaller;\n",
              "  line-height: 1em;\n",
              "  font-family: monospace;\n",
              "  background-color: var(--sklearn-color-background);\n",
              "  border-radius: 1em;\n",
              "  height: 1em;\n",
              "  width: 1em;\n",
              "  text-decoration: none !important;\n",
              "  margin-left: 0.5em;\n",
              "  text-align: center;\n",
              "  /* unfitted */\n",
              "  border: var(--sklearn-color-unfitted-level-1) 1pt solid;\n",
              "  color: var(--sklearn-color-unfitted-level-1);\n",
              "}\n",
              "\n",
              ".sk-estimator-doc-link.fitted,\n",
              "a:link.sk-estimator-doc-link.fitted,\n",
              "a:visited.sk-estimator-doc-link.fitted {\n",
              "  /* fitted */\n",
              "  border: var(--sklearn-color-fitted-level-1) 1pt solid;\n",
              "  color: var(--sklearn-color-fitted-level-1);\n",
              "}\n",
              "\n",
              "/* On hover */\n",
              "div.sk-estimator:hover .sk-estimator-doc-link:hover,\n",
              ".sk-estimator-doc-link:hover,\n",
              "div.sk-label-container:hover .sk-estimator-doc-link:hover,\n",
              ".sk-estimator-doc-link:hover {\n",
              "  /* unfitted */\n",
              "  background-color: var(--sklearn-color-unfitted-level-3);\n",
              "  color: var(--sklearn-color-background);\n",
              "  text-decoration: none;\n",
              "}\n",
              "\n",
              "div.sk-estimator.fitted:hover .sk-estimator-doc-link.fitted:hover,\n",
              ".sk-estimator-doc-link.fitted:hover,\n",
              "div.sk-label-container:hover .sk-estimator-doc-link.fitted:hover,\n",
              ".sk-estimator-doc-link.fitted:hover {\n",
              "  /* fitted */\n",
              "  background-color: var(--sklearn-color-fitted-level-3);\n",
              "  color: var(--sklearn-color-background);\n",
              "  text-decoration: none;\n",
              "}\n",
              "\n",
              "/* Span, style for the box shown on hovering the info icon */\n",
              ".sk-estimator-doc-link span {\n",
              "  display: none;\n",
              "  z-index: 9999;\n",
              "  position: relative;\n",
              "  font-weight: normal;\n",
              "  right: .2ex;\n",
              "  padding: .5ex;\n",
              "  margin: .5ex;\n",
              "  width: min-content;\n",
              "  min-width: 20ex;\n",
              "  max-width: 50ex;\n",
              "  color: var(--sklearn-color-text);\n",
              "  box-shadow: 2pt 2pt 4pt #999;\n",
              "  /* unfitted */\n",
              "  background: var(--sklearn-color-unfitted-level-0);\n",
              "  border: .5pt solid var(--sklearn-color-unfitted-level-3);\n",
              "}\n",
              "\n",
              ".sk-estimator-doc-link.fitted span {\n",
              "  /* fitted */\n",
              "  background: var(--sklearn-color-fitted-level-0);\n",
              "  border: var(--sklearn-color-fitted-level-3);\n",
              "}\n",
              "\n",
              ".sk-estimator-doc-link:hover span {\n",
              "  display: block;\n",
              "}\n",
              "\n",
              "/* \"?\"-specific style due to the `<a>` HTML tag */\n",
              "\n",
              "#sk-container-id-4 a.estimator_doc_link {\n",
              "  float: right;\n",
              "  font-size: 1rem;\n",
              "  line-height: 1em;\n",
              "  font-family: monospace;\n",
              "  background-color: var(--sklearn-color-background);\n",
              "  border-radius: 1rem;\n",
              "  height: 1rem;\n",
              "  width: 1rem;\n",
              "  text-decoration: none;\n",
              "  /* unfitted */\n",
              "  color: var(--sklearn-color-unfitted-level-1);\n",
              "  border: var(--sklearn-color-unfitted-level-1) 1pt solid;\n",
              "}\n",
              "\n",
              "#sk-container-id-4 a.estimator_doc_link.fitted {\n",
              "  /* fitted */\n",
              "  border: var(--sklearn-color-fitted-level-1) 1pt solid;\n",
              "  color: var(--sklearn-color-fitted-level-1);\n",
              "}\n",
              "\n",
              "/* On hover */\n",
              "#sk-container-id-4 a.estimator_doc_link:hover {\n",
              "  /* unfitted */\n",
              "  background-color: var(--sklearn-color-unfitted-level-3);\n",
              "  color: var(--sklearn-color-background);\n",
              "  text-decoration: none;\n",
              "}\n",
              "\n",
              "#sk-container-id-4 a.estimator_doc_link.fitted:hover {\n",
              "  /* fitted */\n",
              "  background-color: var(--sklearn-color-fitted-level-3);\n",
              "}\n",
              "</style><div id=\"sk-container-id-4\" class=\"sk-top-container\"><div class=\"sk-text-repr-fallback\"><pre>KNeighborsClassifier(n_neighbors=4)</pre><b>In a Jupyter environment, please rerun this cell to show the HTML representation or trust the notebook. <br />On GitHub, the HTML representation is unable to render, please try loading this page with nbviewer.org.</b></div><div class=\"sk-container\" hidden><div class=\"sk-item\"><div class=\"sk-estimator fitted sk-toggleable\"><input class=\"sk-toggleable__control sk-hidden--visually\" id=\"sk-estimator-id-4\" type=\"checkbox\" checked><label for=\"sk-estimator-id-4\" class=\"sk-toggleable__label fitted sk-toggleable__label-arrow\"><div><div>KNeighborsClassifier</div></div><div><a class=\"sk-estimator-doc-link fitted\" rel=\"noreferrer\" target=\"_blank\" href=\"https://scikit-learn.org/1.6/modules/generated/sklearn.neighbors.KNeighborsClassifier.html\">?<span>Documentation for KNeighborsClassifier</span></a><span class=\"sk-estimator-doc-link fitted\">i<span>Fitted</span></span></div></label><div class=\"sk-toggleable__content fitted\"><pre>KNeighborsClassifier(n_neighbors=4)</pre></div> </div></div></div></div>"
            ]
          },
          "metadata": {},
          "execution_count": 34
        }
      ],
      "source": [
        "optimal_k = 4\n",
        "knn_optimal = KNeighborsClassifier(n_neighbors=optimal_k)  # Initialize KNN with k=18\n",
        "knn_optimal.fit(X_train_scaled, y_train)  # Train the model"
      ]
    },
    {
      "cell_type": "markdown",
      "metadata": {
        "id": "CGMLsJbmf39y"
      },
      "source": [
        "## Evaluate training and testing accuracy for k=4, ensures the model performs well on both sets without overfitting"
      ]
    },
    {
      "cell_type": "code",
      "execution_count": null,
      "metadata": {
        "id": "_e3mLogMf711"
      },
      "outputs": [],
      "source": [
        "y_train_pred = knn_optimal.predict(X_train_scaled)  # Predict on the training set\n",
        "y_test_pred = knn_optimal.predict(X_test_scaled)  # Predict on the test set\n",
        "train_accuracy = accuracy_score(y_train, y_train_pred)  # Training accuracy\n",
        "test_accuracy = accuracy_score(y_test, y_test_pred)  # Testing accuracy"
      ]
    },
    {
      "cell_type": "markdown",
      "metadata": {
        "id": "rHq51fW1f_aO"
      },
      "source": [
        "##Result\n",
        "\n",
        "---\n",
        "- Kedua akurasi (training dan testing) menunjukkan nilai yang tinggi, yang menunjukkan bahwa model K-Nearest Neighbors (KNN) dengan ( k = 4 ) mampu melakukan klasifikasi dengan baik pada data pelatihan dan data pengujian.\n",
        "- Perbedaan antara training accuracy dan testing accuracy sangat kecil (hanya sekitar 0.0057). Ini menunjukkan bahwa model tidak mengalami overfitting, di mana model terlalu baik pada data pelatihan tetapi buruk pada data pengujian. Sebaliknya, model ini tampaknya dapat menggeneralisasi dengan baik ke data yang belum pernah dilihat sebelumnya.\n",
        "- Nilai akurasi yang hampir sama menunjukkan bahwa model stabil dan tidak terlalu sensitif terhadap variasi dalam data. Ini adalah indikasi bahwa model dapat diandalkan untuk prediksi pada data baru.\n"
      ]
    },
    {
      "cell_type": "code",
      "execution_count": null,
      "metadata": {
        "colab": {
          "base_uri": "https://localhost:8080/"
        },
        "id": "sDg68NzGhdn_",
        "outputId": "bd2fa76e-93c9-44ab-a443-e4c309672f55"
      },
      "outputs": [
        {
          "output_type": "stream",
          "name": "stdout",
          "text": [
            "Training Accuracy (k=4): 0.9346590909090909\n",
            "Testing Accuracy (k=4): 0.9090909090909091\n"
          ]
        }
      ],
      "source": [
        "# Final results\n",
        "print(\"Training Accuracy (k=4):\", train_accuracy)\n",
        "print(\"Testing Accuracy (k=4):\", test_accuracy)"
      ]
    },
    {
      "cell_type": "markdown",
      "metadata": {
        "id": "E0c-SB8ds5wH"
      },
      "source": [
        "## Tuning Hyperparameter\n",
        "\n",
        "---\n",
        "- Accuracy menurun dari sebelum dilakukan tuning, menunjukkan bahwa tuning parameter yang dilakukan mungkin tidak efektif atau tidak sesuai untuk model atau dataset yang digunakan.\n",
        "- Kedua akurasi (training dan testing) menunjukkan nilai yang cukup tinggi, yang menunjukkan bahwa model mampu melakukan klasifikasi dengan baik pada data pelatihan dan data pengujian.\n",
        "- Perbedaan antara training accuracy (0.9205) dan testing accuracy (0.9091) adalah sekitar 0.0114. Ini menunjukkan bahwa model tidak mengalami overfitting yang signifikan, karena akurasi pada data pengujian tidak jauh lebih rendah daripada akurasi pada data pelatihan. Model tampaknya dapat menggeneralisasi dengan baik ke data yang belum pernah dilihat sebelumnya.\n",
        "- Nilai akurasi yang relatif dekat menunjukkan bahwa model stabil dan tidak terlalu sensitif terhadap variasi dalam data. Ini adalah indikasi bahwa model dapat diandalkan untuk prediksi pada data baru.\n"
      ]
    },
    {
      "cell_type": "code",
      "execution_count": null,
      "metadata": {
        "colab": {
          "base_uri": "https://localhost:8080/"
        },
        "id": "437J3arTwQeT",
        "outputId": "9108b83e-6724-4233-802b-1b4d2e934de4"
      },
      "outputs": [
        {
          "output_type": "stream",
          "name": "stdout",
          "text": [
            "{'metric': 'manhattan', 'n_neighbors': 11, 'weights': 'uniform'}\n",
            "\n",
            "Hasil Cross-Validation setelah Tuning:\n",
            "CV Scores: [0.94366197 0.92957746 0.88571429 0.88571429 0.91428571]\n",
            "Average CV Score: 0.9118 (+/- 0.0465)\n",
            "\n",
            "Performa Model setelah Cross-Validation:\n",
            "Training Accuracy: 0.9233\n",
            "Testing Accuracy: 0.8977\n"
          ]
        }
      ],
      "source": [
        "from sklearn.model_selection import cross_val_score\n",
        "from sklearn.metrics import accuracy_score\n",
        "from sklearn.model_selection import GridSearchCV\n",
        "import numpy as np\n",
        "\n",
        "# Define the parameter grid for KNN\n",
        "param_grid = {\n",
        "    'n_neighbors': range(1, 30),  # Explore k values from 1 to 29\n",
        "    'weights': ['uniform', 'distance'],  # Explore weight options\n",
        "    'metric': ['euclidean', 'manhattan']  # Explore distance metrics\n",
        "}\n",
        "\n",
        "# Initialize GridSearchCV with KNN estimator and parameter grid\n",
        "grid_search = GridSearchCV(KNeighborsClassifier(), param_grid, cv=5)\n",
        "\n",
        "# Fit GridSearchCV to the training data\n",
        "grid_search.fit(X_train_scaled, y_train)\n",
        "best_params = grid_search.best_params_\n",
        "print(best_params)\n",
        "\n",
        "# Gunakan parameter terbaik dari grid search\n",
        "best_knn = KNeighborsClassifier(**grid_search.best_params_)\n",
        "\n",
        "# Lakukan cross-validation\n",
        "cv_scores = cross_val_score(best_knn, X_train_scaled, y_train, cv=5)\n",
        "\n",
        "print(\"\\nHasil Cross-Validation setelah Tuning:\")\n",
        "print(f\"CV Scores: {cv_scores}\")\n",
        "print(f\"Average CV Score: {cv_scores.mean():.4f} (+/- {cv_scores.std() * 2:.4f})\")\n",
        "\n",
        "# Fit model dengan parameter terbaik\n",
        "best_knn.fit(X_train_scaled, y_train)\n",
        "\n",
        "# Prediksi dan evaluasi pada training set\n",
        "y_train_pred = best_knn.predict(X_train_scaled)\n",
        "train_accuracy = accuracy_score(y_train, y_train_pred)\n",
        "# Prediksi dan evaluasi pada test set\n",
        "y_test_pred = best_knn.predict(X_test_scaled)\n",
        "test_accuracy = accuracy_score(y_test, y_test_pred)\n",
        "\n",
        "print(\"\\nPerforma Model setelah Cross-Validation:\")\n",
        "print(f\"Training Accuracy: {train_accuracy:.4f}\")\n",
        "print(f\"Testing Accuracy: {test_accuracy:.4f}\")"
      ]
    },
    {
      "cell_type": "markdown",
      "metadata": {
        "id": "7P-DG2gklRoA"
      },
      "source": [
        "# **Metode Naive Bayes**"
      ]
    },
    {
      "cell_type": "markdown",
      "metadata": {
        "id": "r5QSmtQTsvyr"
      },
      "source": [
        "## Sebelum tuning hyperparameter\n",
        "\n",
        "---\n",
        "- Kedua akurasi (training dan testing) menunjukkan nilai yang cukup baik, dengan testing accuracy (0.9091) sedikit lebih tinggi daripada training accuracy (0.8977). Ini menunjukkan bahwa model Naive Bayes mampu melakukan klasifikasi dengan baik pada data pelatihan dan data pengujian.\n",
        "- Testing accuracy yang lebih tinggi daripada training accuracy bisa menjadi indikasi bahwa model tidak mengalami overfitting. Sebaliknya, model mungkin lebih baik dalam menggeneralisasi ke data yang belum pernah dilihat sebelumnya, meskipun perbedaan antara keduanya tidak terlalu besar.\n",
        "- Nilai akurasi yang relatif dekat menunjukkan bahwa model stabil dan tidak terlalu sensitif terhadap variasi dalam data. Ini adalah indikasi bahwa model dapat diandalkan untuk prediksi pada data baru.\n"
      ]
    },
    {
      "cell_type": "code",
      "execution_count": null,
      "metadata": {
        "colab": {
          "base_uri": "https://localhost:8080/"
        },
        "id": "J6Xu5xVmlQpc",
        "outputId": "6c17872f-80af-4e79-ab93-cd20d34d9331"
      },
      "outputs": [
        {
          "output_type": "stream",
          "name": "stdout",
          "text": [
            "\n",
            "Accuracy of Naive Bayes: 0.9090909090909091\n",
            "\n",
            "Classification Report:\n",
            "              precision    recall  f1-score   support\n",
            "\n",
            "           1       0.94      0.94      0.94        65\n",
            "           2       0.83      0.83      0.83        23\n",
            "\n",
            "    accuracy                           0.91        88\n",
            "   macro avg       0.88      0.88      0.88        88\n",
            "weighted avg       0.91      0.91      0.91        88\n",
            "\n",
            "\n",
            "Confusion Matrix:\n",
            "[[61  4]\n",
            " [ 4 19]]\n",
            "Training Accuracy (Naive Bayes): 0.8977272727272727\n",
            "Testing Accuracy (Naive Bayes): 0.9090909090909091\n"
          ]
        }
      ],
      "source": [
        "from sklearn.naive_bayes import GaussianNB # Import GaussianNB\n",
        "from sklearn.metrics import accuracy_score, classification_report, confusion_matrix # Import necessary metrics\n",
        "\n",
        "nb = GaussianNB()  # Initialize the Gaussian Naive Bayes model\n",
        "nb.fit(X_train_scaled, y_train)  # Train the model\n",
        "\n",
        "# Step 6: Predict and evaluate the model with test data\n",
        "y_pred = nb.predict(X_test_scaled)  # Predict the test set\n",
        "accuracy = accuracy_score(y_test, y_pred)  # Calculate accuracy\n",
        "classification_rep = classification_report(y_test, y_pred)  # Generate classification report\n",
        "conf_matrix = confusion_matrix(y_test, y_pred)  # Generate confusion matrix\n",
        "\n",
        "# Print evaluation results\n",
        "print(\"\\nAccuracy of Naive Bayes:\", accuracy)\n",
        "print(\"\\nClassification Report:\")\n",
        "print(classification_rep)\n",
        "print(\"\\nConfusion Matrix:\")\n",
        "print(conf_matrix)\n",
        "\n",
        "# Step 8: Training and testing accuracy for Naive Bayes\n",
        "y_train_pred = nb.predict(X_train_scaled)  # Predict on the training set\n",
        "y_test_pred = nb.predict(X_test_scaled)  # Predict on the test set\n",
        "train_accuracy = accuracy_score(y_train, y_train_pred)  # Training accuracy\n",
        "test_accuracy = accuracy_score(y_test, y_test_pred)  # Testing accuracy\n",
        "\n",
        "# Final results\n",
        "print(\"Training Accuracy (Naive Bayes):\", train_accuracy)\n",
        "print(\"Testing Accuracy (Naive Bayes):\", test_accuracy)"
      ]
    },
    {
      "cell_type": "markdown",
      "metadata": {
        "id": "ilzJJ92eslb5"
      },
      "source": [
        "## Tuning hyperparameter menggunakan var smoothing\n",
        "\n",
        "---\n",
        "\n",
        "- Karena accuracy tidak berubah, artinya model mungkin sudah berada pada titik optimal dalam hal kompleksitas dan generalisasi. Tuning parameter tidak memberikan perubahan signifikan karena model sudah cukup baik dalam menangkap pola dalam data.\n"
      ]
    },
    {
      "cell_type": "code",
      "execution_count": null,
      "metadata": {
        "colab": {
          "base_uri": "https://localhost:8080/"
        },
        "id": "f-Nym7Edsb_7",
        "outputId": "16a8015c-4246-42d9-b319-234222c6f2da"
      },
      "outputs": [
        {
          "output_type": "stream",
          "name": "stdout",
          "text": [
            "\n",
            "Accuracy of Naive Bayes: 0.8977272727272727\n",
            "\n",
            "Classification Report:\n",
            "              precision    recall  f1-score   support\n",
            "\n",
            "           1       0.92      0.94      0.93        65\n",
            "           2       0.82      0.78      0.80        23\n",
            "\n",
            "    accuracy                           0.90        88\n",
            "   macro avg       0.87      0.86      0.87        88\n",
            "weighted avg       0.90      0.90      0.90        88\n",
            "\n",
            "\n",
            "Confusion Matrix:\n",
            "[[61  4]\n",
            " [ 5 18]]\n",
            "Training Accuracy (Naive Bayes): 0.8806818181818182\n",
            "Testing Accuracy (Naive Bayes): 0.8977272727272727\n"
          ]
        }
      ],
      "source": [
        "from sklearn.model_selection import GridSearchCV\n",
        "from sklearn.naive_bayes import GaussianNB\n",
        "\n",
        "# Mencoba beberapa nilai var_smoothing\n",
        "smoothing_values = np.logspace(0,-9, num=100)\n",
        "\n",
        "# Grid search\n",
        "param_grid = {'var_smoothing': smoothing_values}\n",
        "grid = GridSearchCV(GaussianNB(), param_grid, cv=5)\n",
        "grid.fit(X_train_scaled, y_train)\n",
        "\n",
        "# Gunakan parameter terbaik\n",
        "nb = GaussianNB(var_smoothing=grid.best_params_['var_smoothing'])\n",
        "\n",
        "nb.fit(X_train_scaled, y_train)  # Train the model\n",
        "\n",
        "# Step 6: Predict and evaluate the model with test data\n",
        "y_pred = nb.predict(X_test_scaled)  # Predict the test set\n",
        "accuracy = accuracy_score(y_test, y_pred)  # Calculate accuracy\n",
        "classification_rep = classification_report(y_test, y_pred)  # Generate classification report\n",
        "conf_matrix = confusion_matrix(y_test, y_pred)  # Generate confusion matrix\n",
        "\n",
        "# Print evaluation results\n",
        "print(\"\\nAccuracy of Naive Bayes:\", accuracy)\n",
        "print(\"\\nClassification Report:\")\n",
        "print(classification_rep)\n",
        "print(\"\\nConfusion Matrix:\")\n",
        "print(conf_matrix)\n",
        "\n",
        "# Step 8: Training and testing accuracy for Naive Bayes\n",
        "y_train_pred = nb.predict(X_train_scaled)  # Predict on the training set\n",
        "y_test_pred = nb.predict(X_test_scaled)  # Predict on the test set\n",
        "train_accuracy = accuracy_score(y_train, y_train_pred)  # Training accuracy\n",
        "test_accuracy = accuracy_score(y_test, y_test_pred)  # Testing accuracy\n",
        "\n",
        "# Final results\n",
        "print(\"Training Accuracy (Naive Bayes):\", train_accuracy)\n",
        "print(\"Testing Accuracy (Naive Bayes):\", test_accuracy)"
      ]
    },
    {
      "cell_type": "markdown",
      "metadata": {
        "id": "O4Bm3MwThj8v"
      },
      "source": [
        "# **Membandingkan accuracy setelah outlier dihapus**\n",
        "\n"
      ]
    },
    {
      "cell_type": "code",
      "execution_count": null,
      "metadata": {
        "colab": {
          "base_uri": "https://localhost:8080/",
          "height": 1000
        },
        "id": "z3fdKWIInTbc",
        "outputId": "500f883a-ac47-431a-d7a1-a0a769ae783c"
      },
      "outputs": [
        {
          "output_type": "display_data",
          "data": {
            "text/plain": [
              "<Figure size 1500x800 with 8 Axes>"
            ],
            "image/png": "[encoded data removed]"
          },
          "metadata": {}
        },
        {
          "output_type": "stream",
          "name": "stdout",
          "text": [
            "Outliers were successfully handled\n"
          ]
        },
        {
          "output_type": "display_data",
          "data": {
            "text/plain": [
              "<Figure size 1500x800 with 8 Axes>"
            ],
            "image/png": "[encoded data removed]"
          },
          "metadata": {}
        },
        {
          "output_type": "stream",
          "name": "stdout",
          "text": [
            "\n",
            "Size of X_train: (352, 7)\n",
            "Size of X_test: (88, 7)\n",
            "Size of Y_train: (352,)\n",
            "Size of Y_test: (88,)\n"
          ]
        }
      ],
      "source": [
        "dataset = pd.read_csv(url)\n",
        "\n",
        "num_cols = len(dataset.select_dtypes(include=['int', 'float']).columns)\n",
        "plt.figure(figsize=(15, 8))\n",
        "rows = (num_cols + 2) // 3\n",
        "for i, col in enumerate(dataset.select_dtypes(include=['int', 'float']).columns):\n",
        "  plt.subplot(rows, 3, i+1)\n",
        "  sns.boxplot(x=dataset[col])\n",
        "  plt.title(f'Boxplot untuk Kolom {col}')\n",
        "plt.tight_layout()\n",
        "plt.show()\n",
        "\n",
        "# metode IQR\n",
        "def handle_outliers(data,column):\n",
        "  Q1 = data[column].quantile(0.25)\n",
        "  Q3 = data[column].quantile(0.75)\n",
        "  IQR = Q3 - Q1\n",
        "  lower_bound = Q1 - 1.5 * IQR\n",
        "  upper_bound = Q3 + 1.5 * IQR\n",
        "  data[column] = data[column].apply(lambda x: upper_bound\n",
        "                                    if x > upper_bound\n",
        "                                    else (lower_bound if x < lower_bound else x))\n",
        "  return data\n",
        "\n",
        "for col in dataset.select_dtypes(include=['int', 'float']).columns:\n",
        "  dataset = handle_outliers(dataset, col)\n",
        "\n",
        "print(\"Outliers were successfully handled\")\n",
        "\n",
        "num_cols = len(dataset.select_dtypes(include=['int', 'float']).columns)\n",
        "plt.figure(figsize=(15, 8))\n",
        "rows = (num_cols + 2) // 3\n",
        "for i, col in enumerate(dataset.select_dtypes(include=['int', 'float']).columns):\n",
        "  plt.subplot(rows, 3, i+1)\n",
        "  sns.boxplot(x=dataset[col])\n",
        "  plt.title(f'Boxplot untuk Kolom {col}')\n",
        "plt.tight_layout()\n",
        "plt.show()\n",
        "\n",
        "# memisahkan fitur channel agar menjadi target\n",
        "X = dataset.drop(columns=['Channel'])\n",
        "Y = dataset['Channel']\n",
        "\n",
        "from sklearn.model_selection import train_test_split\n",
        "\n",
        "# Membagi dataset menjadi set pelatihan dan set pengujian\n",
        "data_split_ratio = 0.2  # 80% training, 20% testing\n",
        "X_train, X_test, y_train, y_test = train_test_split(X, Y, test_size=data_split_ratio, random_state=42)\n",
        "\n",
        "# Menampilkan ukuran setiap set\n",
        "print(\"\\nSize of X_train:\", X_train.shape)\n",
        "print(\"Size of X_test:\", X_test.shape)\n",
        "print(\"Size of Y_train:\", y_train.shape)\n",
        "print(\"Size of Y_test:\", y_test.shape)\n",
        "\n",
        "# Init MinMaxScaler\n",
        "scaler = MinMaxScaler()\n",
        "\n",
        "# Fit scaler pada data pelatihan dan transformasi data pelatihan\n",
        "X_train_scaled = scaler.fit_transform(X_train)\n",
        "\n",
        "# Melakukan transformasi data uji menggunakan scaler yang sama\n",
        "X_test_scaled = scaler.transform(X_test)\n",
        "\n",
        "# Konversi data yang telah diskalakan kembali ke datafrme untuk memudahkan pembacaan\n",
        "X_train_scaled_df = pd.DataFrame(X_train_scaled, columns=X_train.columns)\n",
        "X_test_scaled_df = pd.DataFrame(X_test_scaled, columns=X_test.columns)"
      ]
    },
    {
      "cell_type": "markdown",
      "metadata": {
        "id": "C883TywSnrNc"
      },
      "source": [
        "Analisis boxplot:\n",
        "\n",
        "1. Channel dan Region terlihat sebagai fitur kategorikal yang tidak memiliki outliers yang terlihat. Distribusi data untuk fitur-fitur ini cukup sederhana, tanpa variasi yang signifikan.\n",
        "2. Fitur Fresh menunjukkan adanya banyak outliers, dengan beberapa nilai yang sangat tinggi (di atas 40,000 dan bahkan mendekati 100,000). Median dari fitur ini berada sekitar 8,000.\n",
        "Interquartile Range (IQR) untuk Fresh cukup lebar, menunjukkan variasi yang besar dalam data pembelian Fresh.\n",
        "3. Fitur Milk juga memiliki banyak outliers, dengan beberapa nilai yang sangat tinggi (di atas 20,000). Median untuk Milk berada di sekitar 3,750.\n",
        "Distribusi untuk Milk menunjukkan bahwa sebagian besar data berada di bawah 10,000 dengan beberapa outliers yang sangat besar.\n",
        "4. Fitur Grocery memiliki beberapa outliers yang sangat tinggi, dengan nilai mendekati 40,000. Median dari fitur ini berada di sekitar 3,000.\n",
        "Seperti Milk, Grocery memiliki distribusi data yang menunjukkan sebagian besar data berada di bawah 10,000 dengan beberapa outliers yang sangat besar.\n",
        "5. Fitur Frozen memiliki banyak outliers, dengan nilai yang mencapai 20,000. Median untuk Frozen berada di sekitar 1,200.\n",
        "Distribusi untuk Frozen lebih sempit dibandingkan dengan Fresh, Milk, dan Grocery, namun tetap memiliki banyak outliers.\n",
        "6. Fitur Detergents_Paper memiliki beberapa outliers yang cukup tinggi, dengan nilai mendekati 20,000. Median dari fitur ini berada di sekitar 800.\n",
        "Distribusi data untuk Detergents_Paper cukup sempit, namun terdapat beberapa outliers yang sangat signifikan.\n",
        "7. Fitur Delicassen memiliki beberapa outliers, dengan nilai mendekati 20,000. Median untuk Delicassen berada di sekitar 965.\n",
        "Distribusi untuk Delicassen menunjukkan sebagian besar data berada di bawah 5,000 dengan beberapa outliers yang sangat besar."
      ]
    },
    {
      "cell_type": "markdown",
      "metadata": {
        "id": "tUi4hdTwmMhn"
      },
      "source": [
        "## Metode KNN\n",
        "\n",
        "---\n",
        "\n",
        "Accuracy setelah outlier dihapus lebih kecil dibandingkan sebelum dihapus, ini artinya outlier mungkin mengandung informasi yang penting yang membantu model dalam belajar. Dalam beberapa kasus, outlier dapat merepresentasikan variasi alami dalam data yang seharusnya dipertimbangkan, bukan dihapus.\n"
      ]
    },
    {
      "cell_type": "code",
      "execution_count": null,
      "metadata": {
        "colab": {
          "base_uri": "https://localhost:8080/",
          "height": 755
        },
        "id": "GTxNWsJHiLuK",
        "outputId": "1c37f42f-dbb8-49b9-9fec-c93851bd401b"
      },
      "outputs": [
        {
          "output_type": "stream",
          "name": "stdout",
          "text": [
            "              precision    recall  f1-score   support\n",
            "\n",
            "           1       0.97      0.89      0.93        65\n",
            "           2       0.75      0.91      0.82        23\n",
            "\n",
            "    accuracy                           0.90        88\n",
            "   macro avg       0.86      0.90      0.88        88\n",
            "weighted avg       0.91      0.90      0.90        88\n",
            "\n"
          ]
        },
        {
          "output_type": "display_data",
          "data": {
            "text/plain": [
              "<Figure size 1000x600 with 1 Axes>"
            ],
            "image/png": "[encoded data removed]"
          },
          "metadata": {}
        },
        {
          "output_type": "stream",
          "name": "stdout",
          "text": [
            "Training Accuracy (k=22): 0.9119318181818182\n",
            "Testing Accuracy (k=22): 0.9204545454545454\n"
          ]
        }
      ],
      "source": [
        "knn = KNeighborsClassifier(n_neighbors=5)  # Initialize the model\n",
        "knn.fit(X_train_scaled, y_train)  # Train the model\n",
        "\n",
        "y_pred = knn.predict(X_test_scaled)  # Predict the test set\n",
        "default_accuracy = accuracy_score(y_test, y_pred)  # Calculate accuracy\n",
        "default_classification_rep = classification_report(y_test, y_pred)  # Generate classification report\n",
        "print(default_classification_rep)\n",
        "\n",
        "accuracies = []  # Store accuracy for each k\n",
        "\n",
        "for k in k_values:\n",
        "    knn = KNeighborsClassifier(n_neighbors=k)  # Initialize KNN with current k\n",
        "    knn.fit(X_train_scaled, y_train)  # Train the model\n",
        "    y_pred = knn.predict(X_test_scaled)  # Predict on the test set\n",
        "    accuracies.append(accuracy_score(y_test, y_pred))  # Calculate and store accuracy\n",
        "\n",
        "# Plot accuracy vs. k\n",
        "plt.figure(figsize=(10, 6))\n",
        "plt.plot(k_values, accuracies, marker='o', linestyle='-', linewidth=2)\n",
        "plt.xlabel('Number of Neighbors (k)')\n",
        "plt.ylabel('Accuracy')\n",
        "plt.title('KNN Accuracy Across Different k Values')\n",
        "plt.grid(True)\n",
        "plt.xticks(k_values)\n",
        "plt.show()\n",
        "\n",
        "optimal_k = 22\n",
        "knn_optimal = KNeighborsClassifier(n_neighbors=optimal_k)  # Initialize KNN with k=18\n",
        "knn_optimal.fit(X_train_scaled, y_train)  # Train the model\n",
        "\n",
        "y_train_pred = knn_optimal.predict(X_train_scaled)  # Predict on the training set\n",
        "y_test_pred = knn_optimal.predict(X_test_scaled)  # Predict on the test set\n",
        "train_accuracy = accuracy_score(y_train, y_train_pred)  # Training accuracy\n",
        "test_accuracy = accuracy_score(y_test, y_test_pred)  # Testing accuracy\n",
        "\n",
        "# Final results\n",
        "print(\"Training Accuracy (k=22):\", train_accuracy)\n",
        "print(\"Testing Accuracy (k=22):\", test_accuracy)"
      ]
    },
    {
      "cell_type": "markdown",
      "metadata": {
        "id": "0pat1yIY1WYp"
      },
      "source": [
        "## Metode Naive Bayes\n",
        "\n",
        "---\n",
        "\n",
        "Accuracy setelah outlier dihapus lebih kecil dibandingkan sebelum dihapus, ini artinya outlier mungkin mengandung informasi yang penting yang membantu model dalam belajar. Dalam beberapa kasus, outlier dapat merepresentasikan variasi alami dalam data yang seharusnya dipertimbangkan, bukan dihapus."
      ]
    },
    {
      "cell_type": "code",
      "execution_count": null,
      "metadata": {
        "colab": {
          "base_uri": "https://localhost:8080/"
        },
        "id": "NOulzOj4n0Gm",
        "outputId": "593f5a62-b1a5-4b68-de75-95b766a3dbcb"
      },
      "outputs": [
        {
          "output_type": "stream",
          "name": "stdout",
          "text": [
            "\n",
            "Accuracy of Naive Bayes: 0.8977272727272727\n",
            "\n",
            "Classification Report:\n",
            "              precision    recall  f1-score   support\n",
            "\n",
            "           1       0.95      0.91      0.93        65\n",
            "           2       0.77      0.87      0.82        23\n",
            "\n",
            "    accuracy                           0.90        88\n",
            "   macro avg       0.86      0.89      0.87        88\n",
            "weighted avg       0.90      0.90      0.90        88\n",
            "\n",
            "\n",
            "Confusion Matrix:\n",
            "[[59  6]\n",
            " [ 3 20]]\n",
            "Training Accuracy (Naive Bayes): 0.8920454545454546\n",
            "Testing Accuracy (Naive Bayes): 0.8977272727272727\n"
          ]
        }
      ],
      "source": [
        "nb = GaussianNB()  # Initialize the Gaussian Naive Bayes model\n",
        "nb.fit(X_train_scaled, y_train)  # Train the model\n",
        "\n",
        "# Step 6: Predict and evaluate the model with test data\n",
        "y_pred = nb.predict(X_test_scaled)  # Predict the test set\n",
        "accuracy = accuracy_score(y_test, y_pred)  # Calculate accuracy\n",
        "classification_rep = classification_report(y_test, y_pred)  # Generate classification report\n",
        "conf_matrix = confusion_matrix(y_test, y_pred)  # Generate confusion matrix\n",
        "\n",
        "# Print evaluation results\n",
        "print(\"\\nAccuracy of Naive Bayes:\", accuracy)\n",
        "print(\"\\nClassification Report:\")\n",
        "print(classification_rep)\n",
        "print(\"\\nConfusion Matrix:\")\n",
        "print(conf_matrix)\n",
        "\n",
        "# Step 8: Training and testing accuracy for Naive Bayes\n",
        "y_train_pred = nb.predict(X_train_scaled)  # Predict on the training set\n",
        "y_test_pred = nb.predict(X_test_scaled)  # Predict on the test set\n",
        "train_accuracy = accuracy_score(y_train, y_train_pred)  # Training accuracy\n",
        "test_accuracy = accuracy_score(y_test, y_test_pred)  # Testing accuracy\n",
        "\n",
        "# Final results\n",
        "print(\"Training Accuracy (Naive Bayes):\", train_accuracy)\n",
        "print(\"Testing Accuracy (Naive Bayes):\", test_accuracy)"
      ]
    },
    {
      "cell_type": "markdown",
      "metadata": {
        "id": "cYKC5Ed02Zjn"
      },
      "source": [
        "# **Kesimpulan**"
      ]
    },
    {
      "cell_type": "markdown",
      "metadata": {
        "id": "Lj9eF5mi36C1"
      },
      "source": [
        "Berdasarkan tahapan analisis pada dataset  \"Wholesale customers\" dengan 7 variabel-variabel feature yang ada, terdapat dua metode klasifikasi yang kami gunakan, yaitu K-Nearest Neighbors(KNN) dan Naive Bayes. Kami mencoba membandingkan beberapa setting untuk kedua metode tersebut, yaitu: sebelum menghapus outlier, setelah tuning parameter,dan setelah menghapus outlier.\n",
        "\n",
        "Berikut merupakan rincian analisis yang dapat diambil dari percobaan pada dataset ini:\n",
        "1. **Metode KNN**\n",
        "- Sebelum dilakukan penghapusan outlier dan tuning parameter, kami menggunakan nilai k=4 (didapatkan berdasarkan grafik trend accuracy di setiap nilai k) dengan accuracy bernilai: Training Accuracy (k=4): **0.9375**; Testing Accuracy (k=4): **0.9318181818181818**. Kedua akurasi (training dan testing) menunjukkan nilai yang tinggi, yang menunjukkan bahwa model KNN ini mampu melakukan klasifikasi dengan baik pada data pelatihan dan data pengujian.\n",
        "Selain itu, perbedaan antara training accuracy dan testing accuracy sangat kecil (hanya sekitar 0.0057) menunjukkan bahwa model tidak mengalami overfitting, di mana model terlalu baik pada data pelatihan tetapi buruk pada data pengujian. Sebaliknya, model ini tampaknya dapat menggeneralisasi dengan baik ke data yang belum pernah dilihat sebelumnya.\n",
        "\n",
        "- Setelah dilakukan tuning parameter menggunakan Cross-Validation, kami mendapatkan accuracy bernilai: Training Accuracy: **0.9176**; Testing Accuracy: **0.8864**. Accuracy menurun dari sebelum dilakukan tuning, menunjukkan bahwa tuning parameter yang dilakukan mungkin tidak efektif atau tidak sesuai untuk model atau dataset yang digunakan.\n",
        "\n",
        "- Setelah dilakukan penghapusan outlier, kami menggunakan nilai k=22 (didapatkan berdasarkan grafik trend accuracy di setiap nilai k) dengan accuracy bernilai: Training Accuracy (k=22): **0.9119318181818182**;\n",
        "Testing Accuracy (k=22): **0.9204545454545454**. Accuracy setelah outlier dihapus lebih kecil dibandingkan sebelum dihapus, ini artinya outlier mungkin mengandung informasi yang penting yang membantu model dalam belajar. Dalam beberapa kasus, outlier dapat merepresentasikan variasi alami dalam data yang seharusnya dipertimbangkan, bukan dihapu\n",
        "\n",
        "2. **Metode Naive Bayes**\n",
        "- Sebelum dilakukan penghapusan outlier dan tuning parameter, accuracy bernilai: Training Accuracy (Naive Bayes): **0.8977272727272727**;\n",
        "Testing Accuracy (Naive Bayes): **0.9090909090909091**. Kedua akurasi (training dan testing) menunjukkan nilai yang cukup baik, dengan testing accuracy (0.9091) sedikit lebih tinggi daripada training accuracy (0.8977). Ini menunjukkan bahwa model Naive Bayes mampu melakukan klasifikasi dengan baik pada data pelatihan dan data pengujian. Testing accuracy yang lebih tinggi daripada training accuracy bisa menjadi indikasi bahwa model tidak mengalami overfitting. Sebaliknya, model mungkin lebih baik dalam menggeneralisasi ke data yang belum pernah dilihat sebelumnya, meskipun perbedaan antara keduanya tidak terlalu besar.\n",
        "- Setelah dilakukan tuning parameter menggunakan Var Smoothing, accuracy tidak berubah. Artinya model mungkin sudah berada pada titik optimal dalam hal kompleksitas dan generalisasi. Tuning parameter tidak memberikan perubahan signifikan karena model sudah cukup baik dalam menangkap pola dalam data.\n",
        "- Setelah dilakukan penghapusan outlier, accuracy bernilai Training Accuracy (Naive Bayes): **0.8920454545454546**; Testing Accuracy (Naive Bayes): **0.8977272727272727**. Accuracy setelah outlier dihapus lebih kecil dibandingkan sebelum dihapus, ini artinya outlier mungkin mengandung informasi yang penting yang membantu model dalam belajar. Dalam beberapa kasus, outlier dapat merepresentasikan variasi alami dalam data yang seharusnya dipertimbangkan, bukan dihapus.\n",
        "\n",
        "3. **Perbandingan Kedua Metode**\n",
        "- KNN menunjukkan performa yang lebih baik dibandingkan Naive Bayes dalam hal akurasi, baik sebelum maupun setelah penghapusan outlier. KNN lebih sensitif terhadap pengaruh outlier, dan penghapusan outlier tampaknya mengurangi akurasi model.\n",
        "- Naive Bayes memiliki akurasi yang lebih rendah secara keseluruhan, tetapi menunjukkan stabilitas yang lebih baik setelah tuning parameter, dengan tidak adanya perubahan signifikan dalam akurasi.\n",
        "- Kedua metode menunjukkan bahwa outlier dapat mengandung informasi penting yang berkontribusi pada kinerja model, dan penghapusan outlier tidak selalu merupakan langkah yang tepat.\n"
      ]
    },
    {
      "cell_type": "markdown",
      "source": [
        "# Deploy Model via Streamlit\n"
      ],
      "metadata": {
        "id": "vazu6nouRKdG"
      }
    },
    {
      "cell_type": "markdown",
      "source": [
        "## Langkah 1: Buat Script untuk Melatih dan Menyimpan Model Final"
      ],
      "metadata": {
        "id": "KbYjB76TRUPO"
      }
    },
    {
      "cell_type": "code",
      "source": [
        "# Membuat dan Menjalankan Script Pelatihan\n",
        "\n",
        "# Tulis isi script ke file train_model.py\n",
        "%%writefile train_model.py\n",
        "\n",
        "import pandas as pd\n",
        "from sklearn.preprocessing import MinMaxScaler\n",
        "from sklearn.neighbors import KNeighborsClassifier\n",
        "import pickle\n",
        "\n",
        "print(\"Starting model training process...\")\n",
        "\n",
        "# 1. Load Data\n",
        "url = 'https://raw.githubusercontent.com/hyejrkv/datasetWholesaleCustomers/refs/heads/main/Wholesale%20customers%20data.csv'\n",
        "dataset = pd.read_csv(url)\n",
        "print(\"Data loaded successfully.\")\n",
        "\n",
        "# 2. Preprocessing\n",
        "X = dataset.drop(columns=['Channel', 'Delicassen'])\n",
        "Y = dataset['Channel']\n",
        "\n",
        "# 3. Feature Scaling\n",
        "scaler = MinMaxScaler()\n",
        "X_scaled = scaler.fit_transform(X)\n",
        "print(\"Data has been scaled.\")\n",
        "\n",
        "# 4. Train the Final Model\n",
        "best_params_knn = {\n",
        "    'metric': 'manhattan',\n",
        "    'n_neighbors': 11,\n",
        "    'weights': 'uniform'\n",
        "}\n",
        "final_model = KNeighborsClassifier(**best_params_knn)\n",
        "final_model.fit(X_scaled, Y)\n",
        "print(\"Final model trained successfully.\")\n",
        "\n",
        "# 5. Save the Model and the Scaler\n",
        "with open('knn_model.pkl', 'wb') as model_file:\n",
        "    pickle.dump(final_model, model_file)\n",
        "print(\"Model saved to knn_model.pkl\")\n",
        "\n",
        "with open('scaler.pkl', 'wb') as scaler_file:\n",
        "    pickle.dump(scaler, scaler_file)\n",
        "print(\"Scaler saved to scaler.pkl\")\n",
        "\n",
        "print(\"\\nProcess complete.\")\n",
        "\n",
        "# Jalankan script yang baru saja kita buat\n",
        "!python train_model.py"
      ],
      "metadata": {
        "colab": {
          "base_uri": "https://localhost:8080/"
        },
        "id": "azESImbORRvw",
        "outputId": "c1bd8e80-c487-44d4-c319-e96e10d6cee8"
      },
      "execution_count": null,
      "outputs": [
        {
          "output_type": "stream",
          "name": "stdout",
          "text": [
            "Writing train_model.py\n"
          ]
        }
      ]
    },
    {
      "cell_type": "markdown",
      "source": [
        "## Langkah 2: Buat Script Aplikasi Streamlit"
      ],
      "metadata": {
        "id": "NyEUj8o-RZZw"
      }
    },
    {
      "cell_type": "code",
      "metadata": {
        "colab": {
          "base_uri": "https://localhost:8080/"
        },
        "id": "4f854a03",
        "outputId": "ad37e4ac-5dda-4f52-83d6-5e7905525409"
      },
      "source": [
        "!pip install streamlit"
      ],
      "execution_count": null,
      "outputs": [
        {
          "output_type": "stream",
          "name": "stdout",
          "text": [
            "Collecting streamlit\n",
            "  Downloading streamlit-1.46.1-py3-none-any.whl.metadata (9.0 kB)\n",
            "Requirement already satisfied: altair<6,>=4.0 in /usr/local/lib/python3.11/dist-packages (from streamlit) (5.5.0)\n",
            "Requirement already satisfied: blinker<2,>=1.5.0 in /usr/local/lib/python3.11/dist-packages (from streamlit) (1.9.0)\n",
            "Requirement already satisfied: cachetools<7,>=4.0 in /usr/local/lib/python3.11/dist-packages (from streamlit) (5.5.2)\n",
            "Requirement already satisfied: click<9,>=7.0 in /usr/local/lib/python3.11/dist-packages (from streamlit) (8.2.1)\n",
            "Requirement already satisfied: numpy<3,>=1.23 in /usr/local/lib/python3.11/dist-packages (from streamlit) (2.0.2)\n",
            "Requirement already satisfied: packaging<26,>=20 in /usr/local/lib/python3.11/dist-packages (from streamlit) (24.2)\n",
            "Requirement already satisfied: pandas<3,>=1.4.0 in /usr/local/lib/python3.11/dist-packages (from streamlit) (2.2.2)\n",
            "Requirement already satisfied: pillow<12,>=7.1.0 in /usr/local/lib/python3.11/dist-packages (from streamlit) (11.2.1)\n",
            "Requirement already satisfied: protobuf<7,>=3.20 in /usr/local/lib/python3.11/dist-packages (from streamlit) (5.29.5)\n",
            "Requirement already satisfied: pyarrow>=7.0 in /usr/local/lib/python3.11/dist-packages (from streamlit) (18.1.0)\n",
            "Requirement already satisfied: requests<3,>=2.27 in /usr/local/lib/python3.11/dist-packages (from streamlit) (2.32.3)\n",
            "Requirement already satisfied: tenacity<10,>=8.1.0 in /usr/local/lib/python3.11/dist-packages (from streamlit) (8.5.0)\n",
            "Requirement already satisfied: toml<2,>=0.10.1 in /usr/local/lib/python3.11/dist-packages (from streamlit) (0.10.2)\n",
            "Requirement already satisfied: typing-extensions<5,>=4.4.0 in /usr/local/lib/python3.11/dist-packages (from streamlit) (4.14.0)\n",
            "Collecting watchdog<7,>=2.1.5 (from streamlit)\n",
            "  Downloading watchdog-6.0.0-py3-none-manylinux2014_x86_64.whl.metadata (44 kB)\n",
            "\u001b[2K     \u001b[90m━━━━━━━━━━━━━━━━━━━━━━━━━━━━━━━━━━━━━━━━\u001b[0m \u001b[32m44.3/44.3 kB\u001b[0m \u001b[31m1.8 MB/s\u001b[0m eta \u001b[36m0:00:00\u001b[0m\n",
            "\u001b[?25hRequirement already satisfied: gitpython!=3.1.19,<4,>=3.0.7 in /usr/local/lib/python3.11/dist-packages (from streamlit) (3.1.44)\n",
            "Collecting pydeck<1,>=0.8.0b4 (from streamlit)\n",
            "  Downloading pydeck-0.9.1-py2.py3-none-any.whl.metadata (4.1 kB)\n",
            "Requirement already satisfied: tornado!=6.5.0,<7,>=6.0.3 in /usr/local/lib/python3.11/dist-packages (from streamlit) (6.4.2)\n",
            "Requirement already satisfied: jinja2 in /usr/local/lib/python3.11/dist-packages (from altair<6,>=4.0->streamlit) (3.1.6)\n",
            "Requirement already satisfied: jsonschema>=3.0 in /usr/local/lib/python3.11/dist-packages (from altair<6,>=4.0->streamlit) (4.24.0)\n",
            "Requirement already satisfied: narwhals>=1.14.2 in /usr/local/lib/python3.11/dist-packages (from altair<6,>=4.0->streamlit) (1.45.0)\n",
            "Requirement already satisfied: gitdb<5,>=4.0.1 in /usr/local/lib/python3.11/dist-packages (from gitpython!=3.1.19,<4,>=3.0.7->streamlit) (4.0.12)\n",
            "Requirement already satisfied: python-dateutil>=2.8.2 in /usr/local/lib/python3.11/dist-packages (from pandas<3,>=1.4.0->streamlit) (2.9.0.post0)\n",
            "Requirement already satisfied: pytz>=2020.1 in /usr/local/lib/python3.11/dist-packages (from pandas<3,>=1.4.0->streamlit) (2025.2)\n",
            "Requirement already satisfied: tzdata>=2022.7 in /usr/local/lib/python3.11/dist-packages (from pandas<3,>=1.4.0->streamlit) (2025.2)\n",
            "Requirement already satisfied: charset-normalizer<4,>=2 in /usr/local/lib/python3.11/dist-packages (from requests<3,>=2.27->streamlit) (3.4.2)\n",
            "Requirement already satisfied: idna<4,>=2.5 in /usr/local/lib/python3.11/dist-packages (from requests<3,>=2.27->streamlit) (3.10)\n",
            "Requirement already satisfied: urllib3<3,>=1.21.1 in /usr/local/lib/python3.11/dist-packages (from requests<3,>=2.27->streamlit) (2.4.0)\n",
            "Requirement already satisfied: certifi>=2017.4.17 in /usr/local/lib/python3.11/dist-packages (from requests<3,>=2.27->streamlit) (2025.6.15)\n",
            "Requirement already satisfied: smmap<6,>=3.0.1 in /usr/local/lib/python3.11/dist-packages (from gitdb<5,>=4.0.1->gitpython!=3.1.19,<4,>=3.0.7->streamlit) (5.0.2)\n",
            "Requirement already satisfied: MarkupSafe>=2.0 in /usr/local/lib/python3.11/dist-packages (from jinja2->altair<6,>=4.0->streamlit) (3.0.2)\n",
            "Requirement already satisfied: attrs>=22.2.0 in /usr/local/lib/python3.11/dist-packages (from jsonschema>=3.0->altair<6,>=4.0->streamlit) (25.3.0)\n",
            "Requirement already satisfied: jsonschema-specifications>=2023.03.6 in /usr/local/lib/python3.11/dist-packages (from jsonschema>=3.0->altair<6,>=4.0->streamlit) (2025.4.1)\n",
            "Requirement already satisfied: referencing>=0.28.4 in /usr/local/lib/python3.11/dist-packages (from jsonschema>=3.0->altair<6,>=4.0->streamlit) (0.36.2)\n",
            "Requirement already satisfied: rpds-py>=0.7.1 in /usr/local/lib/python3.11/dist-packages (from jsonschema>=3.0->altair<6,>=4.0->streamlit) (0.26.0)\n",
            "Requirement already satisfied: six>=1.5 in /usr/local/lib/python3.11/dist-packages (from python-dateutil>=2.8.2->pandas<3,>=1.4.0->streamlit) (1.17.0)\n",
            "Downloading streamlit-1.46.1-py3-none-any.whl (10.1 MB)\n",
            "\u001b[2K   \u001b[90m━━━━━━━━━━━━━━━━━━━━━━━━━━━━━━━━━━━━━━━━\u001b[0m \u001b[32m10.1/10.1 MB\u001b[0m \u001b[31m49.4 MB/s\u001b[0m eta \u001b[36m0:00:00\u001b[0m\n",
            "\u001b[?25hDownloading pydeck-0.9.1-py2.py3-none-any.whl (6.9 MB)\n",
            "\u001b[2K   \u001b[90m━━━━━━━━━━━━━━━━━━━━━━━━━━━━━━━━━━━━━━━━\u001b[0m \u001b[32m6.9/6.9 MB\u001b[0m \u001b[31m69.2 MB/s\u001b[0m eta \u001b[36m0:00:00\u001b[0m\n",
            "\u001b[?25hDownloading watchdog-6.0.0-py3-none-manylinux2014_x86_64.whl (79 kB)\n",
            "\u001b[2K   \u001b[90m━━━━━━━━━━━━━━━━━━━━━━━━━━━━━━━━━━━━━━━━\u001b[0m \u001b[32m79.1/79.1 kB\u001b[0m \u001b[31m4.4 MB/s\u001b[0m eta \u001b[36m0:00:00\u001b[0m\n",
            "\u001b[?25hInstalling collected packages: watchdog, pydeck, streamlit\n",
            "Successfully installed pydeck-0.9.1 streamlit-1.46.1 watchdog-6.0.0\n"
          ]
        }
      ]
    },
    {
      "cell_type": "code",
      "source": [
        "# Membuat file aplikasi Streamlit\n",
        "%%writefile app.py\n",
        "\n",
        "import streamlit as st\n",
        "import pandas as pd\n",
        "import numpy as np\n",
        "import pickle\n",
        "\n",
        "# Fungsi untuk memuat model dan scaler\n",
        "@st.cache_resource\n",
        "def load_artifacts():\n",
        "    try:\n",
        "        with open('knn_model.pkl', 'rb') as model_file:\n",
        "            model = pickle.load(model_file)\n",
        "        with open('scaler.pkl', 'rb') as scaler_file:\n",
        "            scaler = pickle.load(scaler_file)\n",
        "        return model, scaler\n",
        "    except FileNotFoundError:\n",
        "        st.error(\"Model atau scaler tidak ditemukan. Harap jalankan sel training terlebih dahulu.\")\n",
        "        return None, None\n",
        "\n",
        "# Muat model dan scaler\n",
        "model, scaler = load_artifacts()\n",
        "\n",
        "# Tampilan UI Streamlit\n",
        "st.set_page_config(page_title=\"Prediksi Channel Pelanggan\", layout=\"wide\")\n",
        "st.title(\"📊 Prediksi Channel Pelanggan Grosir (KNN)\")\n",
        "st.write(\"Aplikasi ini memprediksi channel pelanggan (Horeca atau Retail) berdasarkan pengeluaran tahunan mereka pada berbagai kategori produk.\")\n",
        "\n",
        "st.sidebar.header(\"Masukkan Data Pelanggan:\")\n",
        "\n",
        "# Buat input form di sidebar\n",
        "def user_input_features():\n",
        "    region = st.sidebar.selectbox('Region', [1, 2, 3], help=\"1=Lisbon, 2=Oporto, 3=Other\")\n",
        "    fresh = st.sidebar.number_input('Fresh Products', min_value=0, value=12000, step=100)\n",
        "    milk = st.sidebar.number_input('Milk Products', min_value=0, value=5000, step=100)\n",
        "    grocery = st.sidebar.number_input('Grocery Products', min_value=0, value=7000, step=100)\n",
        "    frozen = st.sidebar.number_input('Frozen Products', min_value=0, value=3000, step=100)\n",
        "    detergents_paper = st.sidebar.number_input('Detergents & Paper', min_value=0, value=2000, step=100)\n",
        "\n",
        "    data = {\n",
        "        'Region': region,\n",
        "        'Fresh': fresh,\n",
        "        'Milk': milk,\n",
        "        'Grocery': grocery,\n",
        "        'Frozen': frozen,\n",
        "        'Detergents_Paper': detergents_paper\n",
        "    }\n",
        "    features = pd.DataFrame(data, index=[0])\n",
        "    return features\n",
        "\n",
        "input_df = user_input_features()\n",
        "\n",
        "# Tampilkan data input pengguna\n",
        "st.subheader(\"Data yang Anda Masukkan:\")\n",
        "st.dataframe(input_df, use_container_width=True)\n",
        "\n",
        "# Tombol prediksi\n",
        "if st.button('Prediksi Channel'):\n",
        "    if model is not None and scaler is not None:\n",
        "        # Scaling input pengguna\n",
        "        input_scaled = scaler.transform(input_df)\n",
        "\n",
        "        # Lakukan prediksi\n",
        "        prediction = model.predict(input_scaled)\n",
        "        prediction_proba = model.predict_proba(input_scaled)\n",
        "\n",
        "        # Tampilkan hasil\n",
        "        st.subheader(\"Hasil Prediksi:\")\n",
        "        channel_map = {1: 'Horeca (Hotel/Restaurant/Cafe)', 2: 'Retail'}\n",
        "        predicted_channel = channel_map[prediction[0]]\n",
        "\n",
        "        col1, col2 = st.columns(2)\n",
        "        with col1:\n",
        "            st.metric(\"Channel Terprediksi\", predicted_channel)\n",
        "        with col2:\n",
        "            st.metric(\"Kepercayaan (Confidence)\", f\"{prediction_proba.max():.2%}\")\n",
        "\n",
        "        st.success(f\"Berdasarkan data yang dimasukkan, pelanggan ini kemungkinan besar termasuk dalam channel **{predicted_channel}**.\")\n",
        "    else:\n",
        "        st.warning(\"Tidak dapat melakukan prediksi karena model belum dimuat.\")\n",
        "\n",
        "st.markdown(\"---\")\n",
        "st.write(\"Dibuat oleh Kelompok 1M2W: Riodino Raihan, Nurul Izzah, Awanda Puspa\")"
      ],
      "metadata": {
        "colab": {
          "base_uri": "https://localhost:8080/"
        },
        "id": "y4vM2zk_RdS3",
        "outputId": "23c93c80-d9ac-4c64-b8af-f0d9c42e134d"
      },
      "execution_count": null,
      "outputs": [
        {
          "output_type": "stream",
          "name": "stdout",
          "text": [
            "Writing app.py\n"
          ]
        }
      ]
    },
    {
      "cell_type": "markdown",
      "source": [
        "# Menjalankan aplikasi"
      ],
      "metadata": {
        "id": "mGx2RZ1kSnes"
      }
    },
    {
      "cell_type": "code",
      "metadata": {
        "colab": {
          "base_uri": "https://localhost:8080/"
        },
        "id": "81ae9869",
        "outputId": "a3796bd9-08c5-4a38-ea45-86210bf8722a"
      },
      "source": [
        "!pip install pyngrok"
      ],
      "execution_count": null,
      "outputs": [
        {
          "output_type": "stream",
          "name": "stdout",
          "text": [
            "Collecting pyngrok\n",
            "  Downloading pyngrok-7.2.11-py3-none-any.whl.metadata (9.4 kB)\n",
            "Requirement already satisfied: PyYAML>=5.1 in /usr/local/lib/python3.11/dist-packages (from pyngrok) (6.0.2)\n",
            "Downloading pyngrok-7.2.11-py3-none-any.whl (25 kB)\n",
            "Installing collected packages: pyngrok\n",
            "Successfully installed pyngrok-7.2.11\n"
          ]
        }
      ]
    },
    {
      "cell_type": "code",
      "source": [
        "# Menjalankan aplikasi dan membuat tunnel publik\n",
        "from pyngrok import ngrok\n",
        "\n",
        "# Matikan proses ngrok yang mungkin sudah berjalan sebelumnya\n",
        "ngrok.kill()\n",
        "\n",
        "# Masukkan authtoken ngrok Anda. Anda bisa mendapatkannya dari dashboard ngrok.\n",
        "# Ganti 'YOUR_NGROK_AUTHTOKEN' dengan token Anda.\n",
        "# Ini adalah langkah penting agar tunnel Anda stabil.\n",
        "NGROK_AUTH_TOKEN = \"token_pribadi\"  # <-- GANTI DENGAN TOKEN PRIBADI\n",
        "ngrok.set_auth_token(NGROK_AUTH_TOKEN)\n",
        "\n",
        "# Jalankan streamlit di background\n",
        "!nohup streamlit run app.py &\n",
        "\n",
        "# Buka tunnel ke port 8501 (port default streamlit)\n",
        "public_url = ngrok.connect(8501)\n",
        "print(f\"🔗 Aplikasi Streamlit Anda sudah live di: {public_url}\")"
      ],
      "metadata": {
        "colab": {
          "base_uri": "https://localhost:8080/"
        },
        "id": "ZTtlXKNoSG89",
        "outputId": "b148f45e-cda1-42bb-cb32-c0a51b944e47"
      },
      "execution_count": null,
      "outputs": [
        {
          "output_type": "stream",
          "name": "stdout",
          "text": [
            "nohup: appending output to 'nohup.out'\n",
            "🔗 Aplikasi Streamlit Anda sudah live di: NgrokTunnel: \"https://ab988ef0bb16.ngrok-free.app\" -> \"http://localhost:8501\"\n"
          ]
        }
      ]
    }
  ],
  "metadata": {
    "colab": {
      "provenance": [],
      "toc_visible": true
    },
    "kernelspec": {
      "display_name": "Python 3",
      "name": "python3"
    },
    "language_info": {
      "name": "python"
    }
  },
  "nbformat": 4,
  "nbformat_minor": 0
}